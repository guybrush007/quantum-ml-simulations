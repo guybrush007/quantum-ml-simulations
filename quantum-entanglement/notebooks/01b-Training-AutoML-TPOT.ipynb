{
 "cells": [
  {
   "cell_type": "code",
   "execution_count": 1,
   "metadata": {
    "tags": [
     "parameters"
    ]
   },
   "outputs": [],
   "source": [
    "# Parameters cells\n",
    "WITNESS_NAME = \"PPT\"\n",
    "SIMULATION_PATH = \"./simulated_data\"\n",
    "MLFLOW_URL = \"http://localhost:5000\"\n",
    "AIRFLOW_DAG_RUN_ID = None #\"test-dm-chsh\"\n",
    "AWS_ACCESS_KEY_ID=\"minio123\"\n",
    "AWS_SECRET_ACCESS_KEY=\"minio123\"\n",
    "MLFLOW_S3_ENDPOINT_URL=\"http://localhost:9990\""
   ]
  },
  {
   "cell_type": "code",
   "execution_count": 2,
   "metadata": {},
   "outputs": [],
   "source": [
    "from os import environ, path\n",
    "import mlflow\n",
    "\n",
    "environ[\"AWS_ACCESS_KEY_ID\"] = AWS_ACCESS_KEY_ID\n",
    "environ[\"AWS_SECRET_ACCESS_KEY\"] = AWS_SECRET_ACCESS_KEY\n",
    "\n",
    "mlflow.set_tracking_uri(MLFLOW_URL)\n",
    "environ[\"MLFLOW_S3_ENDPOINT_URL\"] = MLFLOW_S3_ENDPOINT_URL"
   ]
  },
  {
   "cell_type": "code",
   "execution_count": 3,
   "metadata": {},
   "outputs": [],
   "source": [
    "import numpy as np\n",
    "from sklearn.model_selection import train_test_split\n",
    "\n",
    "simulation_file_path = path.join(SIMULATION_PATH, f\"simulation-{WITNESS_NAME}.npz\")\n",
    "\n",
    "data = np.load(simulation_file_path)\n",
    "simulated_states = data[\"states\"].astype(np.float64)\n",
    "simulated_labels = data[\"labels\"].astype(np.float64)\n",
    "\n",
    "X_train, X_val, y_train, y_val = train_test_split(simulated_states, simulated_labels, test_size=0.2, random_state=42)"
   ]
  },
  {
   "cell_type": "code",
   "execution_count": 4,
   "metadata": {},
   "outputs": [
    {
     "data": {
      "application/vnd.jupyter.widget-view+json": {
       "model_id": "488e03c3e3004403b1727139142aa2ad",
       "version_major": 2,
       "version_minor": 0
      },
      "text/plain": [
       "Optimization Progress:   0%|          | 0/120 [00:00<?, ?pipeline/s]"
      ]
     },
     "metadata": {},
     "output_type": "display_data"
    },
    {
     "name": "stdout",
     "output_type": "stream",
     "text": [
      "\n",
      "Generation 1 - Current best internal CV score: 1.0\n",
      "\n",
      "Generation 2 - Current best internal CV score: 1.0\n",
      "\n",
      "Generation 3 - Current best internal CV score: 1.0\n",
      "\n",
      "Generation 4 - Current best internal CV score: 1.0\n",
      "\n",
      "Generation 5 - Current best internal CV score: 1.0\n",
      "\n",
      "Best pipeline: ExtraTreesClassifier(input_matrix, bootstrap=False, criterion=entropy, max_features=0.5, min_samples_leaf=2, min_samples_split=10, n_estimators=100)\n"
     ]
    },
    {
     "name": "stderr",
     "output_type": "stream",
     "text": [
      "Successfully registered model 'QuantumStateClassifier-PPT-TPOT'.\n",
      "2024/07/17 16:14:53 INFO mlflow.store.model_registry.abstract_store: Waiting up to 300 seconds for model version to finish creation. Model name: QuantumStateClassifier-PPT-TPOT, version 1\n"
     ]
    },
    {
     "name": "stdout",
     "output_type": "stream",
     "text": [
      "Model accuracy: 1.0\n"
     ]
    },
    {
     "name": "stderr",
     "output_type": "stream",
     "text": [
      "Created version '1' of model 'QuantumStateClassifier-PPT-TPOT'.\n"
     ]
    }
   ],
   "source": [
    "from sklearn.metrics import accuracy_score\n",
    "from tpot import TPOTClassifier\n",
    "\n",
    "mlflow.set_experiment('ML Quantum Entanglement')\n",
    "\n",
    "with mlflow.start_run() as run:\n",
    "    pipeline_optimizer = TPOTClassifier(generations=5, population_size=20, cv=5, random_state=42, verbosity=2)\n",
    "    pipeline_optimizer.fit(X_train, y_train)\n",
    "    \n",
    "    # Make predictions\n",
    "    y_pred = pipeline_optimizer.predict(X_val)\n",
    "    \n",
    "    # Calculate accuracy\n",
    "    accuracy = accuracy_score(y_val, y_pred)\n",
    "    \n",
    "    # Log parameters\n",
    "    mlflow.log_param(\"generations\", 5)\n",
    "    mlflow.log_param(\"population_size\", 20)\n",
    "    mlflow.log_param(\"random_state\", 42)\n",
    "    mlflow.log_param(\"witness\", WITNESS_NAME)\n",
    "\n",
    "    mlflow.set_tag(\"airflow_dag_run_id\", f\"{AIRFLOW_DAG_RUN_ID}-TPOT\")\n",
    "    mlflow.set_tag(\"pipeline_step\", \"training\")\n",
    "    \n",
    "    # Log the accuracy metric\n",
    "    mlflow.log_metric(\"accuracy\", accuracy)\n",
    "    \n",
    "    # Log the model\n",
    "    mlflow.sklearn.log_model(pipeline_optimizer.fitted_pipeline_, \"model\")\n",
    "    model_name = f\"QuantumStateClassifier-{WITNESS_NAME}-TPOT\"\n",
    "    model_uri = f\"runs:/{run.info.run_id}/model\"\n",
    "    mlflow.register_model(model_uri, model_name)\n",
    "\n",
    "    print(f\"Model accuracy: {accuracy}\")"
   ]
  }
 ],
 "metadata": {
  "kernelspec": {
   "display_name": "quantum-entanglement",
   "language": "python",
   "name": "python3"
  },
  "language_info": {
   "codemirror_mode": {
    "name": "ipython",
    "version": 3
   },
   "file_extension": ".py",
   "mimetype": "text/x-python",
   "name": "python",
   "nbconvert_exporter": "python",
   "pygments_lexer": "ipython3",
   "version": "3.11.9"
  }
 },
 "nbformat": 4,
 "nbformat_minor": 2
}
