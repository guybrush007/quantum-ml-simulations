{
 "cells": [
  {
   "cell_type": "code",
   "execution_count": 13,
   "metadata": {
    "tags": [
     "parameters"
    ]
   },
   "outputs": [],
   "source": [
    "MLFLOW_URL = \"http://localhost:5000\"\n",
    "AWS_ACCESS_KEY_ID=\"minio123\"\n",
    "AWS_SECRET_ACCESS_KEY=\"minio123\"\n",
    "MLFLOW_S3_ENDPOINT_URL=\"http://localhost:9990\"\n",
    "BASE_AIRFLOW_DAG_RUN_ID = None"
   ]
  },
  {
   "cell_type": "code",
   "execution_count": 14,
   "metadata": {},
   "outputs": [],
   "source": [
    "from os import environ\n",
    "\n",
    "environ[\"AWS_ACCESS_KEY_ID\"] = AWS_ACCESS_KEY_ID\n",
    "environ[\"AWS_SECRET_ACCESS_KEY\"] = AWS_SECRET_ACCESS_KEY\n",
    "environ[\"MLFLOW_S3_ENDPOINT_URL\"] = MLFLOW_S3_ENDPOINT_URL\n",
    "environ[\"MLFLOW_ENABLE_ARTIFACTS_PROGRESS_BAR\"] = \"false\""
   ]
  },
  {
   "cell_type": "code",
   "execution_count": 15,
   "metadata": {},
   "outputs": [],
   "source": [
    "import os\n",
    "import tensorflow as tf\n",
    "from tensorflow.keras.layers import Input, Dense\n",
    "from tensorflow.keras.models import Model\n",
    "from sklearn.model_selection import train_test_split\n",
    "import numpy as np\n",
    "import mlflow \n",
    "import logging\n",
    "\n",
    "os.environ['import numpy as npTF_CPP_MIN_LOG_LEVEL'] = '3'\n",
    "tf.get_logger().setLevel(logging.ERROR)"
   ]
  },
  {
   "cell_type": "code",
   "execution_count": 16,
   "metadata": {},
   "outputs": [],
   "source": [
    "import mlflow\n",
    "\n",
    "if MLFLOW_URL is not None:\n",
    "    environ[\"MLFLOW_S3_ENDPOINT_URL\"] = MLFLOW_S3_ENDPOINT_URL\n",
    "    mlflow.set_tracking_uri(MLFLOW_URL)"
   ]
  },
  {
   "cell_type": "code",
   "execution_count": 17,
   "metadata": {},
   "outputs": [],
   "source": [
    "META_MODEL_WITNESSES = [\n",
    "    \"CHSH_OPTIMAL\",\n",
    "    \"CONCURRENCE\",\n",
    "    \"ENTROPY\",\n",
    "    \"NEGATIVITY\",\n",
    "    \"PPT\"\n",
    "]\n",
    "\n",
    "RUN_IDS = {}\n",
    "\n",
    "for witness in META_MODEL_WITNESSES:\n",
    "    client = mlflow.tracking.MlflowClient()\n",
    "\n",
    "    experiments = client.search_experiments(\n",
    "        filter_string = \"name = 'ML Quantum Entanglement'\"\n",
    "    )\n",
    "    experiment_id = experiments[0].experiment_id\n",
    "\n",
    "    filter_string = (\n",
    "        f\"tags.airflow_dag_run_id = '{BASE_AIRFLOW_DAG_RUN_ID}-{witness}' and \"\n",
    "        f\"tags.pipeline_step = 'training'\"\n",
    "    )   \n",
    "    runs = client.search_runs(\n",
    "        experiment_ids=[experiment_id], \n",
    "        filter_string=filter_string\n",
    "    )\n",
    "    run_id = runs[0].info.run_id\n",
    "    RUN_IDS[witness] = run_id"
   ]
  },
  {
   "cell_type": "code",
   "execution_count": 18,
   "metadata": {},
   "outputs": [],
   "source": [
    "all_models = {}\n",
    "\n",
    "for witness_name, run_id in RUN_IDS.items():\n",
    "    model_uri = f\"runs:/{run_id}/model\"\n",
    "    all_models[witness_name] = mlflow.tensorflow.load_model(model_uri)"
   ]
  },
  {
   "cell_type": "code",
   "execution_count": 19,
   "metadata": {},
   "outputs": [],
   "source": [
    "\n",
    "def get_meta_input(models, data):\n",
    "    meta_input = []\n",
    "    for model in models:\n",
    "        predictions = model.predict(data, verbose=0)\n",
    "        meta_input.append(predictions)\n",
    "    return np.concatenate(meta_input, axis=1)\n",
    "\n",
    "all_models_array = all_models.values()"
   ]
  },
  {
   "cell_type": "code",
   "execution_count": 20,
   "metadata": {},
   "outputs": [],
   "source": [
    "def get_PPT_simulation_data_path():\n",
    "    filename = \"simulation-PPT.npz\"\n",
    "    if BASE_AIRFLOW_DAG_RUN_ID is None:\n",
    "        data_file_path = f\"./simulated_data/{filename}.npz\"\n",
    "    else:\n",
    "        client = mlflow.tracking.MlflowClient()\n",
    "\n",
    "        experiments = client.search_experiments(\n",
    "            filter_string = \"name = 'ML Quantum Entanglement'\"\n",
    "        )\n",
    "        experiment_id = experiments[0].experiment_id\n",
    "\n",
    "        runs = client.search_runs(\n",
    "            experiment_ids=[experiment_id], \n",
    "            filter_string=f\"tags.airflow_dag_run_id = '{BASE_AIRFLOW_DAG_RUN_ID}-PPT' and tags.pipeline_step = 'simulation'\"\n",
    "        )\n",
    "        run_id = runs[0].info.run_id\n",
    "        local_path = mlflow.artifacts.download_artifacts(run_id=run_id, artifact_path=\"simulated_data\")\n",
    "        data_file_path = os.path.join(local_path, filename)\n",
    "    return data_file_path\n",
    "\n",
    "data = np.load(get_PPT_simulation_data_path())\n",
    "simulated_states = data[\"states\"]\n",
    "simulated_labels = data[\"labels\"]"
   ]
  },
  {
   "cell_type": "code",
   "execution_count": 21,
   "metadata": {},
   "outputs": [
    {
     "data": {
      "text/plain": [
       "<keras.src.callbacks.history.History at 0x75245d591c90>"
      ]
     },
     "execution_count": 21,
     "metadata": {},
     "output_type": "execute_result"
    }
   ],
   "source": [
    "X_train, X_val, y_train, y_val = train_test_split(simulated_states, simulated_labels, test_size=0.2, random_state=42)\n",
    "\n",
    "# Assuming each model outputs a single probability value\n",
    "meta_input_shape = len(all_models_array)\n",
    "meta_input = Input(shape=(meta_input_shape,))\n",
    "\n",
    "# Define a simple feedforward neural network\n",
    "x = Dense(10, activation='relu')(meta_input)\n",
    "x = Dense(10, activation='relu')(x)\n",
    "meta_output = Dense(1, activation='sigmoid')(x)\n",
    "\n",
    "meta_model = Model(inputs=meta_input, outputs=meta_output)\n",
    "meta_model.compile(optimizer='adam', loss='binary_crossentropy', metrics=['accuracy'])\n",
    "\n",
    "# Prepare training data\n",
    "# Assuming you have your training data `X_train` and labels `y_train`\n",
    "X_train_meta = get_meta_input(all_models_array, X_train)\n",
    "y_train_meta = y_train\n",
    "\n",
    "# Train the meta-model\n",
    "meta_model.fit(X_train_meta, y_train_meta, epochs=10, batch_size=32, validation_split=0.2, verbose=0)\n"
   ]
  },
  {
   "cell_type": "code",
   "execution_count": 23,
   "metadata": {},
   "outputs": [
    {
     "name": "stdout",
     "output_type": "stream",
     "text": [
      "Simulation function: create_random_bell_phi\n",
      "Witness model CHSH_OPTIMAL entanglement prediction [[0.99965763]]\n",
      "Witness model CONCURRENCE entanglement prediction [[0.99962896]]\n",
      "Witness model ENTROPY entanglement prediction [[0.9997985]]\n",
      "Witness model NEGATIVY entanglement prediction [[0.99990594]]\n",
      "Witness model PPT entanglement prediction [[0.9999844]]\n",
      "---\n",
      "Meta model entanglement prediction [[0.9985204]]\n",
      "\n",
      "Simulation function: create_random_bell_psi\n",
      "Witness model CHSH_OPTIMAL entanglement prediction [[0.9976435]]\n",
      "Witness model CONCURRENCE entanglement prediction [[0.9987242]]\n",
      "Witness model ENTROPY entanglement prediction [[0.9984875]]\n",
      "Witness model NEGATIVY entanglement prediction [[0.99998933]]\n",
      "Witness model PPT entanglement prediction [[0.99997234]]\n",
      "---\n",
      "Meta model entanglement prediction [[0.99851215]]\n",
      "\n",
      "Simulation function: create_random_separable\n",
      "Witness model CHSH_OPTIMAL entanglement prediction [[0.00044619]]\n",
      "Witness model CONCURRENCE entanglement prediction [[2.0733685e-07]]\n",
      "Witness model ENTROPY entanglement prediction [[0.00056405]]\n",
      "Witness model NEGATIVY entanglement prediction [[7.3233684e-07]]\n",
      "Witness model PPT entanglement prediction [[0.00016375]]\n",
      "---\n",
      "Meta model entanglement prediction [[0.00535561]]\n",
      "\n",
      "Simulation function: create_entangled_werner_state_with_chsh_violation\n",
      "Witness model CHSH_OPTIMAL entanglement prediction [[0.99998796]]\n",
      "Witness model CONCURRENCE entanglement prediction [[1.]]\n",
      "Witness model ENTROPY entanglement prediction [[0.9984614]]\n",
      "Witness model NEGATIVY entanglement prediction [[1.]]\n",
      "Witness model PPT entanglement prediction [[1.]]\n",
      "---\n",
      "Meta model entanglement prediction [[0.99852055]]\n",
      "\n",
      "Simulation function: create_entangled_werner_state_without_chsh_violation\n",
      "Witness model CHSH_OPTIMAL entanglement prediction [[0.10670816]]\n",
      "Witness model CONCURRENCE entanglement prediction [[0.9998027]]\n",
      "Witness model ENTROPY entanglement prediction [[0.853528]]\n",
      "Witness model NEGATIVY entanglement prediction [[0.99985176]]\n",
      "Witness model PPT entanglement prediction [[0.9999403]]\n",
      "---\n",
      "Meta model entanglement prediction [[0.99527985]]\n",
      "\n",
      "Simulation function: create_not_entangled_werner_state_dm\n",
      "Witness model CHSH_OPTIMAL entanglement prediction [[4.5903078e-05]]\n",
      "Witness model CONCURRENCE entanglement prediction [[2.364956e-05]]\n",
      "Witness model ENTROPY entanglement prediction [[0.11343344]]\n",
      "Witness model NEGATIVY entanglement prediction [[1.43481875e-05]]\n",
      "Witness model PPT entanglement prediction [[2.9745699e-05]]\n",
      "---\n",
      "Meta model entanglement prediction [[0.00448022]]\n",
      "\n",
      "Simulation function: create_mixed_not_entangled_state\n",
      "Witness model CHSH_OPTIMAL entanglement prediction [[4.7092475e-05]]\n",
      "Witness model CONCURRENCE entanglement prediction [[1.1049507e-06]]\n",
      "Witness model ENTROPY entanglement prediction [[7.296182e-05]]\n",
      "Witness model NEGATIVY entanglement prediction [[7.3051247e-06]]\n",
      "Witness model PPT entanglement prediction [[6.373026e-07]]\n",
      "---\n",
      "Meta model entanglement prediction [[0.00536189]]\n",
      "\n"
     ]
    }
   ],
   "source": [
    "from simulation_utils import create_random_bell_phi, \\\n",
    "    create_random_bell_psi, create_random_separable, \\\n",
    "        create_entangled_werner_state_with_chsh_violation, \\\n",
    "            create_entangled_werner_state_without_chsh_violation, \\\n",
    "                create_not_entangled_werner_state_dm, \\\n",
    "                    create_mixed_not_entangled_state, flatten_density_matrix\n",
    "\n",
    "sim_functions = [\n",
    "    create_random_bell_phi, \n",
    "    create_random_bell_psi,\n",
    "    create_random_separable, \n",
    "    create_entangled_werner_state_with_chsh_violation, \n",
    "    create_entangled_werner_state_without_chsh_violation, \n",
    "    create_not_entangled_werner_state_dm,\n",
    "    create_mixed_not_entangled_state\n",
    "]\n",
    "\n",
    "for sim_func in sim_functions:\n",
    "    print(f\"Simulation function: {sim_func.__name__}\")\n",
    "    state_input = tf.constant([flatten_density_matrix(sim_func())])\n",
    "\n",
    "    for witness_name, model in all_models.items():\n",
    "        prediction = model.predict(state_input, verbose=0)\n",
    "        print(f\"Witness model {witness_name} entanglement prediction {prediction}\")\n",
    "    \n",
    "    print(\"---\")\n",
    "    state_meta_input = get_meta_input(all_models_array, state_input)\n",
    "    prediction = meta_model.predict(state_meta_input, verbose=0)\n",
    "    print(f\"Meta model entanglement prediction {prediction}\\n\")  "
   ]
  }
 ],
 "metadata": {
  "kernelspec": {
   "display_name": "quantum-entanglement",
   "language": "python",
   "name": "python3"
  },
  "language_info": {
   "codemirror_mode": {
    "name": "ipython",
    "version": 3
   },
   "file_extension": ".py",
   "mimetype": "text/x-python",
   "name": "python",
   "nbconvert_exporter": "python",
   "pygments_lexer": "ipython3",
   "version": "3.11.9"
  }
 },
 "nbformat": 4,
 "nbformat_minor": 2
}
