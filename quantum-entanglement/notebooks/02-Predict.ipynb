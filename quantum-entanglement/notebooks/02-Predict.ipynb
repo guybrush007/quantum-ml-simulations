{
 "cells": [
  {
   "cell_type": "markdown",
   "metadata": {},
   "source": [
    "# Predict"
   ]
  },
  {
   "cell_type": "code",
   "execution_count": 1,
   "metadata": {
    "tags": [
     "parameters"
    ]
   },
   "outputs": [],
   "source": [
    "# Parameters cells\n",
    "WITNESS_NAME = \"CHSH\"\n",
    "SIMULATION_PATH = \"./simulated_data\"\n",
    "MLFLOW_URL = \"http://localhost:5000\"\n",
    "AIRFLOW_DAG_RUN_ID = \"test-dm-chsh\"\n",
    "MLFLOW_RUN_ID = \"1c81e50024c54dd69d8e48bc406c4dad\"\n",
    "AWS_ACCESS_KEY_ID=\"minio123\"\n",
    "AWS_SECRET_ACCESS_KEY=\"minio123\"\n",
    "MLFLOW_S3_ENDPOINT_URL=\"http://localhost:9990\""
   ]
  },
  {
   "cell_type": "code",
   "execution_count": 2,
   "metadata": {},
   "outputs": [],
   "source": [
    "from os import environ\n",
    "\n",
    "environ[\"AWS_ACCESS_KEY_ID\"] = AWS_ACCESS_KEY_ID\n",
    "environ[\"AWS_SECRET_ACCESS_KEY\"] = AWS_SECRET_ACCESS_KEY\n",
    "environ[\"MLFLOW_S3_ENDPOINT_URL\"] = MLFLOW_S3_ENDPOINT_URL\n",
    "environ[\"MLFLOW_ENABLE_ARTIFACTS_PROGRESS_BAR\"] = \"false\""
   ]
  },
  {
   "cell_type": "code",
   "execution_count": 3,
   "metadata": {},
   "outputs": [],
   "source": [
    "import mlflow\n",
    "\n",
    "if MLFLOW_URL is not None:\n",
    "    environ[\"MLFLOW_S3_ENDPOINT_URL\"] = MLFLOW_S3_ENDPOINT_URL\n",
    "    mlflow.set_tracking_uri(MLFLOW_URL)"
   ]
  },
  {
   "cell_type": "code",
   "execution_count": 4,
   "metadata": {},
   "outputs": [
    {
     "name": "stderr",
     "output_type": "stream",
     "text": [
      "2024-06-02 23:51:53.059224: I tensorflow/core/util/port.cc:113] oneDNN custom operations are on. You may see slightly different numerical results due to floating-point round-off errors from different computation orders. To turn them off, set the environment variable `TF_ENABLE_ONEDNN_OPTS=0`.\n",
      "2024-06-02 23:51:53.093318: I tensorflow/core/platform/cpu_feature_guard.cc:210] This TensorFlow binary is optimized to use available CPU instructions in performance-critical operations.\n",
      "To enable the following instructions: AVX2 AVX_VNNI FMA, in other operations, rebuild TensorFlow with the appropriate compiler flags.\n",
      "2024-06-02 23:51:53.671581: W tensorflow/compiler/tf2tensorrt/utils/py_utils.cc:38] TF-TRT Warning: Could not find TensorRT\n",
      "2024-06-02 23:51:54.291583: E external/local_xla/xla/stream_executor/cuda/cuda_driver.cc:282] failed call to cuInit: CUDA_ERROR_UNKNOWN: unknown error\n",
      "2024-06-02 23:51:54.291603: I external/local_xla/xla/stream_executor/cuda/cuda_diagnostics.cc:134] retrieving CUDA diagnostic information for host: faical-ubuntu\n",
      "2024-06-02 23:51:54.291607: I external/local_xla/xla/stream_executor/cuda/cuda_diagnostics.cc:141] hostname: faical-ubuntu\n",
      "2024-06-02 23:51:54.291714: I external/local_xla/xla/stream_executor/cuda/cuda_diagnostics.cc:165] libcuda reported version is: 535.171.4\n",
      "2024-06-02 23:51:54.291727: I external/local_xla/xla/stream_executor/cuda/cuda_diagnostics.cc:169] kernel reported version is: 535.171.4\n",
      "2024-06-02 23:51:54.291730: I external/local_xla/xla/stream_executor/cuda/cuda_diagnostics.cc:248] kernel version seems to match DSO: 535.171.4\n"
     ]
    }
   ],
   "source": [
    "import mlflow\n",
    "import mlflow.tensorflow\n",
    "import tensorflow as tf\n",
    "\n",
    "if MLFLOW_RUN_ID is None:\n",
    "    client = mlflow.tracking.MlflowClient()\n",
    "\n",
    "    experiments = client.search_experiments(\n",
    "        filter_string = \"name = 'ML Quantum Entanglement'\"\n",
    "    )\n",
    "    experiment_id = experiments[0].experiment_id\n",
    "\n",
    "    runs = client.search_runs(\n",
    "        experiment_ids=[experiment_id], \n",
    "        filter_string=f\"tags.airflow_dag_run_id = '{AIRFLOW_DAG_RUN_ID}'\"\n",
    "    )\n",
    "    run_id = runs[0].info.run_id\n",
    "else :\n",
    "    run_id = MLFLOW_RUN_ID\n",
    "\n",
    "# Replace '<run_id>' with the actual run ID where your model is stored\n",
    "model_uri = f\"runs:/{run_id}/model\"\n",
    "\n",
    "# Load the TensorFlow model from MLflow\n",
    "model = mlflow.tensorflow.load_model(model_uri)"
   ]
  },
  {
   "cell_type": "code",
   "execution_count": 18,
   "metadata": {},
   "outputs": [
    {
     "name": "stdout",
     "output_type": "stream",
     "text": [
      "\u001b[1m1/1\u001b[0m \u001b[32m━━━━━━━━━━━━━━━━━━━━\u001b[0m\u001b[37m\u001b[0m \u001b[1m0s\u001b[0m 15ms/step\n",
      "Bell state \n",
      "Quantum object: dims=[[2, 2], [2, 2]], shape=(4, 4), type='oper', dtype=Dense, isherm=True\n",
      "Qobj data =\n",
      "[[0.5 0.  0.  0.5]\n",
      " [0.  0.  0.  0. ]\n",
      " [0.  0.  0.  0. ]\n",
      " [0.5 0.  0.  0.5]]: \n",
      "entanglement prediction [[1.]]\n",
      "\u001b[1m1/1\u001b[0m \u001b[32m━━━━━━━━━━━━━━━━━━━━\u001b[0m\u001b[37m\u001b[0m \u001b[1m0s\u001b[0m 13ms/step\n",
      "Bell state \n",
      "Quantum object: dims=[[2, 2], [2, 2]], shape=(4, 4), type='oper', dtype=Dense, isherm=True\n",
      "Qobj data =\n",
      "[[ 0.5  0.   0.  -0.5]\n",
      " [ 0.   0.   0.   0. ]\n",
      " [ 0.   0.   0.   0. ]\n",
      " [-0.5  0.   0.   0.5]]: \n",
      "entanglement prediction [[1.]]\n",
      "\u001b[1m1/1\u001b[0m \u001b[32m━━━━━━━━━━━━━━━━━━━━\u001b[0m\u001b[37m\u001b[0m \u001b[1m0s\u001b[0m 12ms/step\n",
      "Bell state \n",
      "Quantum object: dims=[[2, 2], [2, 2]], shape=(4, 4), type='oper', dtype=Dense, isherm=True\n",
      "Qobj data =\n",
      "[[0.  0.  0.  0. ]\n",
      " [0.  0.5 0.5 0. ]\n",
      " [0.  0.5 0.5 0. ]\n",
      " [0.  0.  0.  0. ]]: \n",
      "entanglement prediction [[0.99998856]]\n",
      "\u001b[1m1/1\u001b[0m \u001b[32m━━━━━━━━━━━━━━━━━━━━\u001b[0m\u001b[37m\u001b[0m \u001b[1m0s\u001b[0m 13ms/step\n",
      "Bell state \n",
      "Quantum object: dims=[[2, 2], [2, 2]], shape=(4, 4), type='oper', dtype=Dense, isherm=True\n",
      "Qobj data =\n",
      "[[ 0.   0.   0.   0. ]\n",
      " [ 0.   0.5 -0.5  0. ]\n",
      " [ 0.  -0.5  0.5  0. ]\n",
      " [ 0.   0.   0.   0. ]]: \n",
      "entanglement prediction [[1.]]\n",
      "\u001b[1m1/1\u001b[0m \u001b[32m━━━━━━━━━━━━━━━━━━━━\u001b[0m\u001b[37m\u001b[0m \u001b[1m0s\u001b[0m 13ms/step\n",
      "Separable state [ 0.30043744 -0.30651587  0.03557361 -0.09802079 -0.30651587  0.6505279\n",
      "  0.02543412  0.07702644  0.03557361  0.02543412  0.01549146 -0.01580489\n",
      " -0.09802079  0.07702644 -0.01580489  0.03354319  0.         -0.31857646\n",
      " -0.05821284  0.02166922  0.31857646  0.          0.09711197 -0.12604645\n",
      "  0.05821284 -0.09711197  0.         -0.01642677 -0.02166922  0.12604645\n",
      "  0.01642677  0.        ]: \n",
      "entanglement prediction [[4.4778188e-11]]\n",
      "\u001b[1m1/1\u001b[0m \u001b[32m━━━━━━━━━━━━━━━━━━━━\u001b[0m\u001b[37m\u001b[0m \u001b[1m0s\u001b[0m 14ms/step\n",
      "Separable state [ 0.22385615 -0.21710473 -0.03714243 -0.05687216 -0.21710473  0.24550509\n",
      "  0.12891661 -0.04073444 -0.03714243  0.12891661  0.25308172 -0.24544886\n",
      " -0.05687216 -0.04073444 -0.24544886  0.27755704  0.         -0.08844977\n",
      " -0.23510496  0.24268994  0.08844977  0.          0.2133386  -0.25784175\n",
      "  0.23510496 -0.2133386   0.         -0.09999735 -0.24268994  0.25784175\n",
      "  0.09999735  0.        ]: \n",
      "entanglement prediction [[5.306131e-12]]\n",
      "\u001b[1m1/1\u001b[0m \u001b[32m━━━━━━━━━━━━━━━━━━━━\u001b[0m\u001b[37m\u001b[0m \u001b[1m0s\u001b[0m 13ms/step\n",
      "Separable state [ 1.71672110e-03 -6.66789170e-03 -5.83787298e-04 -3.18502686e-02\n",
      " -6.66789170e-03  1.71933506e-01  3.63852282e-02 -5.84676202e-02\n",
      " -5.83787298e-04  3.63852282e-02  8.16936500e-03 -3.17305129e-02\n",
      " -3.18502686e-02 -5.84676202e-02 -3.17305129e-02  8.18180408e-01\n",
      "  0.00000000e+00 -1.58335435e-02 -3.69915040e-03  1.97521635e-02\n",
      "  1.58335435e-02  0.00000000e+00  8.98347010e-03 -3.70478290e-01\n",
      "  3.69915040e-03 -8.98347010e-03  0.00000000e+00 -7.53471229e-02\n",
      " -1.97521635e-02  3.70478290e-01  7.53471229e-02  0.00000000e+00]: \n",
      "entanglement prediction [[1.0087303e-10]]\n",
      "\u001b[1m1/1\u001b[0m \u001b[32m━━━━━━━━━━━━━━━━━━━━\u001b[0m\u001b[37m\u001b[0m \u001b[1m0s\u001b[0m 12ms/step\n",
      "Separable state [ 0.03125583 -0.00621566 -0.10768716  0.08319158 -0.00621566  0.01582252\n",
      " -0.04036137 -0.05451405 -0.10768716 -0.04036137  0.63265512 -0.12581234\n",
      "  0.08319158 -0.05451405 -0.12581234  0.32026653  0.          0.02135208\n",
      " -0.09043028 -0.05558199 -0.02135208  0.          0.09154865 -0.04577817\n",
      "  0.09043028 -0.09154865  0.          0.43219153  0.05558199  0.04577817\n",
      " -0.43219153  0.        ]: \n",
      "entanglement prediction [[1.7272291e-11]]\n"
     ]
    }
   ],
   "source": [
    "from simulation_utils import flatten_density_matrix, create_random_separable, create_bell_states\n",
    "\n",
    "\n",
    "for bell_dm in create_bell_states():\n",
    "    flatten_bell = flatten_density_matrix(bell_dm)\n",
    "    predictions = model.predict(tf.constant([flatten_bell]))\n",
    "    print(f\"Bell state \\n{bell_dm}: \\nentanglement prediction {predictions}\")\n",
    "    assert predictions[0][0] > 0.9999\n",
    "\n",
    "for _ in range(0, 4):\n",
    "    separable_dm = create_random_separable()\n",
    "    flatten_separable = flatten_density_matrix(separable_dm)\n",
    "    predictions = model.predict(tf.constant([flatten_separable]))\n",
    "    print(f\"Separable state {flatten_separable}: \\nentanglement prediction {predictions}\")\n",
    "    assert predictions[0][0] > 0 and predictions[0][0] < 1e-5\n"
   ]
  }
 ],
 "metadata": {
  "kernelspec": {
   "display_name": "Python 3 (ipykernel)",
   "language": "python",
   "name": "python3"
  },
  "language_info": {
   "codemirror_mode": {
    "name": "ipython",
    "version": 3
   },
   "file_extension": ".py",
   "mimetype": "text/x-python",
   "name": "python",
   "nbconvert_exporter": "python",
   "pygments_lexer": "ipython3",
   "version": "3.11.9"
  }
 },
 "nbformat": 4,
 "nbformat_minor": 4
}
