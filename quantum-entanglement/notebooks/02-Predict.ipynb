{
 "cells": [
  {
   "cell_type": "markdown",
   "metadata": {},
   "source": [
    "# Predict"
   ]
  },
  {
   "cell_type": "code",
   "execution_count": 1,
   "metadata": {
    "tags": [
     "parameters"
    ]
   },
   "outputs": [],
   "source": [
    "# Parameters cells\n",
    "WITNESS_NAME = \"CHSH\"\n",
    "SIMULATION_PATH = \"./simulated_data\"\n",
    "MLFLOW_URL = \"http://localhost:5000\"\n",
    "AIRFLOW_DAG_RUN_ID = \"304d8395-d05b-41af-bfff-4a8af2f3bf47-CHSH\"\n",
    "MLFLOW_RUN_ID = None #\"1c81e50024c54dd69d8e48bc406c4dad\"\n",
    "AWS_ACCESS_KEY_ID=\"minio123\"\n",
    "AWS_SECRET_ACCESS_KEY=\"minio123\"\n",
    "MLFLOW_S3_ENDPOINT_URL=\"http://localhost:9990\""
   ]
  },
  {
   "cell_type": "code",
   "execution_count": 2,
   "metadata": {},
   "outputs": [],
   "source": [
    "from os import environ\n",
    "\n",
    "environ[\"AWS_ACCESS_KEY_ID\"] = AWS_ACCESS_KEY_ID\n",
    "environ[\"AWS_SECRET_ACCESS_KEY\"] = AWS_SECRET_ACCESS_KEY\n",
    "environ[\"MLFLOW_S3_ENDPOINT_URL\"] = MLFLOW_S3_ENDPOINT_URL\n",
    "environ[\"MLFLOW_ENABLE_ARTIFACTS_PROGRESS_BAR\"] = \"false\""
   ]
  },
  {
   "cell_type": "code",
   "execution_count": 3,
   "metadata": {},
   "outputs": [],
   "source": [
    "import mlflow\n",
    "\n",
    "if MLFLOW_URL is not None:\n",
    "    environ[\"MLFLOW_S3_ENDPOINT_URL\"] = MLFLOW_S3_ENDPOINT_URL\n",
    "    mlflow.set_tracking_uri(MLFLOW_URL)"
   ]
  },
  {
   "cell_type": "code",
   "execution_count": 4,
   "metadata": {},
   "outputs": [
    {
     "name": "stderr",
     "output_type": "stream",
     "text": [
      "2024-07-17 17:30:40.516001: I tensorflow/core/util/port.cc:113] oneDNN custom operations are on. You may see slightly different numerical results due to floating-point round-off errors from different computation orders. To turn them off, set the environment variable `TF_ENABLE_ONEDNN_OPTS=0`.\n",
      "2024-07-17 17:30:40.546838: I tensorflow/core/platform/cpu_feature_guard.cc:210] This TensorFlow binary is optimized to use available CPU instructions in performance-critical operations.\n",
      "To enable the following instructions: AVX2 AVX_VNNI FMA, in other operations, rebuild TensorFlow with the appropriate compiler flags.\n",
      "2024-07-17 17:30:41.035343: W tensorflow/compiler/tf2tensorrt/utils/py_utils.cc:38] TF-TRT Warning: Could not find TensorRT\n",
      "2024-07-17 17:30:41.763145: E external/local_xla/xla/stream_executor/cuda/cuda_driver.cc:282] failed call to cuInit: CUDA_ERROR_UNKNOWN: unknown error\n",
      "2024-07-17 17:30:41.763162: I external/local_xla/xla/stream_executor/cuda/cuda_diagnostics.cc:134] retrieving CUDA diagnostic information for host: faical-ubuntu\n",
      "2024-07-17 17:30:41.763165: I external/local_xla/xla/stream_executor/cuda/cuda_diagnostics.cc:141] hostname: faical-ubuntu\n",
      "2024-07-17 17:30:41.763278: I external/local_xla/xla/stream_executor/cuda/cuda_diagnostics.cc:165] libcuda reported version is: 535.183.1\n",
      "2024-07-17 17:30:41.763287: I external/local_xla/xla/stream_executor/cuda/cuda_diagnostics.cc:169] kernel reported version is: 535.183.1\n",
      "2024-07-17 17:30:41.763289: I external/local_xla/xla/stream_executor/cuda/cuda_diagnostics.cc:248] kernel version seems to match DSO: 535.183.1\n"
     ]
    }
   ],
   "source": [
    "import mlflow\n",
    "import mlflow.tensorflow\n",
    "import tensorflow as tf\n",
    "\n",
    "if MLFLOW_RUN_ID is None:\n",
    "    client = mlflow.tracking.MlflowClient()\n",
    "\n",
    "    experiments = client.search_experiments(\n",
    "        filter_string = \"name = 'ML Quantum Entanglement'\"\n",
    "    )\n",
    "    experiment_id = experiments[0].experiment_id\n",
    "\n",
    "    filter_string = (\n",
    "    f\"tags.airflow_dag_run_id = '{AIRFLOW_DAG_RUN_ID}' and \"\n",
    "    f\"tags.pipeline_step = 'training'\"\n",
    "    )   \n",
    "    runs = client.search_runs(\n",
    "        experiment_ids=[experiment_id], \n",
    "        filter_string=filter_string\n",
    "    )\n",
    "    run_id = runs[0].info.run_id\n",
    "else :\n",
    "    run_id = MLFLOW_RUN_ID\n",
    "model_uri = f\"runs:/{run_id}/model\"\n",
    "model = mlflow.pyfunc.load_model(model_uri)"
   ]
  },
  {
   "cell_type": "code",
   "execution_count": 11,
   "metadata": {},
   "outputs": [
    {
     "name": "stdout",
     "output_type": "stream",
     "text": [
      "\u001b[1m1/1\u001b[0m \u001b[32m━━━━━━━━━━━━━━━━━━━━\u001b[0m\u001b[37m\u001b[0m \u001b[1m0s\u001b[0m 10ms/step\n",
      "Witness model: CHSH Simulation function: create_random_bell_phi Entanglement prediction: [[0.9999979]]\n",
      "\u001b[1m1/1\u001b[0m \u001b[32m━━━━━━━━━━━━━━━━━━━━\u001b[0m\u001b[37m\u001b[0m \u001b[1m0s\u001b[0m 15ms/step\n",
      "Witness model: CHSH Simulation function: create_random_bell_psi Entanglement prediction: [[0.00846853]]\n",
      "\u001b[1m1/1\u001b[0m \u001b[32m━━━━━━━━━━━━━━━━━━━━\u001b[0m\u001b[37m\u001b[0m \u001b[1m0s\u001b[0m 10ms/step\n",
      "Witness model: CHSH Simulation function: create_random_separable Entanglement prediction: [[2.443367e-08]]\n",
      "\u001b[1m1/1\u001b[0m \u001b[32m━━━━━━━━━━━━━━━━━━━━\u001b[0m\u001b[37m\u001b[0m \u001b[1m0s\u001b[0m 10ms/step\n",
      "Witness model: CHSH Simulation function: create_entangled_werner_state_with_chsh_violation Entanglement prediction: [[0.9999998]]\n",
      "\u001b[1m1/1\u001b[0m \u001b[32m━━━━━━━━━━━━━━━━━━━━\u001b[0m\u001b[37m\u001b[0m \u001b[1m0s\u001b[0m 9ms/step\n",
      "Witness model: CHSH Simulation function: create_entangled_werner_state_without_chsh_violation Entanglement prediction: [[0.9998808]]\n",
      "\u001b[1m1/1\u001b[0m \u001b[32m━━━━━━━━━━━━━━━━━━━━\u001b[0m\u001b[37m\u001b[0m \u001b[1m0s\u001b[0m 10ms/step\n",
      "Witness model: CHSH Simulation function: create_not_entangled_werner_state_dm Entanglement prediction: [[1.2910277e-05]]\n",
      "\u001b[1m1/1\u001b[0m \u001b[32m━━━━━━━━━━━━━━━━━━━━\u001b[0m\u001b[37m\u001b[0m \u001b[1m0s\u001b[0m 10ms/step\n",
      "Witness model: CHSH Simulation function: create_mixed_not_entangled_state Entanglement prediction: [[0.00016478]]\n"
     ]
    }
   ],
   "source": [
    "import numpy as np\n",
    "\n",
    "from simulation_utils import create_random_bell_phi, \\\n",
    "    create_random_bell_psi, create_random_separable, \\\n",
    "        create_entangled_werner_state_with_chsh_violation, \\\n",
    "            create_entangled_werner_state_without_chsh_violation, \\\n",
    "                create_not_entangled_werner_state_dm, \\\n",
    "                    create_mixed_not_entangled_state, flatten_density_matrix\n",
    "\n",
    "sim_functions = [\n",
    "    create_random_bell_phi, \n",
    "    create_random_bell_psi,\n",
    "    create_random_separable, \n",
    "    create_entangled_werner_state_with_chsh_violation, \n",
    "    create_entangled_werner_state_without_chsh_violation, \n",
    "    create_not_entangled_werner_state_dm,\n",
    "    create_mixed_not_entangled_state\n",
    "]\n",
    "\n",
    "for sim_func in sim_functions:\n",
    "\n",
    "    flatten_dm = flatten_density_matrix(sim_func())\n",
    "    state_input = np.array(flatten_dm)\n",
    "    state_input = np.expand_dims(flatten_dm, axis=0)\n",
    "\n",
    "    prediction = model.predict(state_input)\n",
    "    print(f\"Witness model: {WITNESS_NAME} Simulation function: {sim_func.__name__} Entanglement prediction: {prediction}\")"
   ]
  },
  {
   "cell_type": "code",
   "execution_count": null,
   "metadata": {},
   "outputs": [],
   "source": []
  }
 ],
 "metadata": {
  "kernelspec": {
   "display_name": "Python 3 (ipykernel)",
   "language": "python",
   "name": "python3"
  },
  "language_info": {
   "codemirror_mode": {
    "name": "ipython",
    "version": 3
   },
   "file_extension": ".py",
   "mimetype": "text/x-python",
   "name": "python",
   "nbconvert_exporter": "python",
   "pygments_lexer": "ipython3",
   "version": "3.11.9"
  }
 },
 "nbformat": 4,
 "nbformat_minor": 4
}
