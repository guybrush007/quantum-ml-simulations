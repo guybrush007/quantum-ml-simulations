{
 "cells": [
  {
   "cell_type": "markdown",
   "metadata": {},
   "source": [
    "# Predict"
   ]
  },
  {
   "cell_type": "code",
   "execution_count": null,
   "metadata": {
    "tags": [
     "parameters"
    ]
   },
   "outputs": [],
   "source": [
    "# Parameters cells\n",
    "WITNESS_NAME = \"CHSH\"\n",
    "SIMULATION_PATH = \"./simulated_data\"\n",
    "MLFLOW_URL = \"http://localhost:5000\"\n",
    "AIRFLOW_DAG_RUN_ID = \"test-dm-chsh\"\n",
    "MLFLOW_RUN_ID = \"1c81e50024c54dd69d8e48bc406c4dad\"\n",
    "AWS_ACCESS_KEY_ID=\"minio123\"\n",
    "AWS_SECRET_ACCESS_KEY=\"minio123\"\n",
    "MLFLOW_S3_ENDPOINT_URL=\"http://localhost:9990\""
   ]
  },
  {
   "cell_type": "code",
   "execution_count": null,
   "metadata": {},
   "outputs": [],
   "source": [
    "from os import environ\n",
    "\n",
    "environ[\"AWS_ACCESS_KEY_ID\"] = AWS_ACCESS_KEY_ID\n",
    "environ[\"AWS_SECRET_ACCESS_KEY\"] = AWS_SECRET_ACCESS_KEY\n",
    "environ[\"MLFLOW_S3_ENDPOINT_URL\"] = MLFLOW_S3_ENDPOINT_URL\n",
    "environ[\"MLFLOW_ENABLE_ARTIFACTS_PROGRESS_BAR\"] = \"false\""
   ]
  },
  {
   "cell_type": "code",
   "execution_count": null,
   "metadata": {},
   "outputs": [],
   "source": [
    "import mlflow\n",
    "\n",
    "if MLFLOW_URL is not None:\n",
    "    environ[\"MLFLOW_S3_ENDPOINT_URL\"] = MLFLOW_S3_ENDPOINT_URL\n",
    "    mlflow.set_tracking_uri(MLFLOW_URL)"
   ]
  },
  {
   "cell_type": "code",
   "execution_count": null,
   "metadata": {},
   "outputs": [],
   "source": [
    "import mlflow\n",
    "import mlflow.tensorflow\n",
    "import tensorflow as tf\n",
    "\n",
    "if MLFLOW_RUN_ID is None:\n",
    "    client = mlflow.tracking.MlflowClient()\n",
    "\n",
    "    experiments = client.search_experiments(\n",
    "        filter_string = \"name = 'ML Quantum Entanglement'\"\n",
    "    )\n",
    "    experiment_id = experiments[0].experiment_id\n",
    "\n",
    "    runs = client.search_runs(\n",
    "        experiment_ids=[experiment_id], \n",
    "        filter_string=f\"tags.airflow_dag_run_id = '{AIRFLOW_DAG_RUN_ID}'\"\n",
    "    )\n",
    "    run_id = runs[0].info.run_id\n",
    "else :\n",
    "    run_id = MLFLOW_RUN_ID\n",
    "\n",
    "model_uri = f\"runs:/{run_id}/model\"\n",
    "model = mlflow.tensorflow.load_model(model_uri)"
   ]
  },
  {
   "cell_type": "code",
   "execution_count": null,
   "metadata": {},
   "outputs": [],
   "source": [
    "from simulation_utils import flatten_density_matrix, create_random_separable, create_bell_states\n",
    "\n",
    "# Test maximally entangled pure bell states\n",
    "for bell_dm in create_bell_states():\n",
    "    flatten_bell = flatten_density_matrix(bell_dm)\n",
    "    predictions = model.predict(tf.constant([flatten_bell]))\n",
    "    print(f\"Bell state \\n{bell_dm}: \\nentanglement prediction {predictions}\")\n",
    "    assert predictions[0][0] > 0.9999\n",
    "\n",
    "# Test separable pure random states\n",
    "for _ in range(0, 4):\n",
    "    separable_dm = create_random_separable()\n",
    "    flatten_separable = flatten_density_matrix(separable_dm)\n",
    "    predictions = model.predict(tf.constant([flatten_separable]))\n",
    "    print(f\"Separable state {flatten_separable}: \\nentanglement prediction {predictions}\")\n",
    "    assert predictions[0][0] > 0 and predictions[0][0] < 1e-5\n"
   ]
  }
 ],
 "metadata": {
  "kernelspec": {
   "display_name": "Python 3 (ipykernel)",
   "language": "python",
   "name": "python3"
  },
  "language_info": {
   "codemirror_mode": {
    "name": "ipython",
    "version": 3
   },
   "file_extension": ".py",
   "mimetype": "text/x-python",
   "name": "python",
   "nbconvert_exporter": "python",
   "pygments_lexer": "ipython3",
   "version": "3.11.9"
  }
 },
 "nbformat": 4,
 "nbformat_minor": 4
}
