{
 "cells": [
  {
   "cell_type": "markdown",
   "id": "e91eb093",
   "metadata": {
    "papermill": {
     "duration": 0.000986,
     "end_time": "2024-05-22T16:24:31.884532",
     "exception": false,
     "start_time": "2024-05-22T16:24:31.883546",
     "status": "completed"
    },
    "tags": []
   },
   "source": [
    "# Simulation notebook"
   ]
  },
  {
   "cell_type": "code",
   "execution_count": 1,
   "id": "8d7f9576",
   "metadata": {
    "execution": {
     "iopub.execute_input": "2024-05-22T16:24:31.889596Z",
     "iopub.status.busy": "2024-05-22T16:24:31.889452Z",
     "iopub.status.idle": "2024-05-22T16:24:35.634581Z",
     "shell.execute_reply": "2024-05-22T16:24:35.633967Z"
    },
    "papermill": {
     "duration": 3.747668,
     "end_time": "2024-05-22T16:24:35.635697",
     "exception": false,
     "start_time": "2024-05-22T16:24:31.888029",
     "status": "completed"
    },
    "tags": []
   },
   "outputs": [],
   "source": [
    "%%capture\n",
    "%pip install -r requirements.txt"
   ]
  },
  {
   "cell_type": "code",
   "execution_count": 2,
   "id": "a6609fb5",
   "metadata": {
    "execution": {
     "iopub.execute_input": "2024-05-22T16:24:35.638220Z",
     "iopub.status.busy": "2024-05-22T16:24:35.638104Z",
     "iopub.status.idle": "2024-05-22T16:24:35.976990Z",
     "shell.execute_reply": "2024-05-22T16:24:35.976444Z"
    },
    "papermill": {
     "duration": 0.341425,
     "end_time": "2024-05-22T16:24:35.978019",
     "exception": false,
     "start_time": "2024-05-22T16:24:35.636594",
     "status": "completed"
    },
    "tags": []
   },
   "outputs": [],
   "source": [
    "from qutip import basis, tensor, rand_ket\n",
    "import numpy as np\n",
    "\n",
    "from entanglement_witnesses import witnesses"
   ]
  },
  {
   "cell_type": "code",
   "execution_count": 3,
   "id": "1e49f676",
   "metadata": {
    "execution": {
     "iopub.execute_input": "2024-05-22T16:24:35.983144Z",
     "iopub.status.busy": "2024-05-22T16:24:35.983013Z",
     "iopub.status.idle": "2024-05-22T16:24:35.985204Z",
     "shell.execute_reply": "2024-05-22T16:24:35.984956Z"
    },
    "papermill": {
     "duration": 0.007054,
     "end_time": "2024-05-22T16:24:35.986012",
     "exception": false,
     "start_time": "2024-05-22T16:24:35.978958",
     "status": "completed"
    },
    "tags": [
     "parameters"
    ]
   },
   "outputs": [],
   "source": [
    "# Parameters cells\n",
    "WITNESS_NAME = \"CHSH\""
   ]
  },
  {
   "cell_type": "code",
   "execution_count": 4,
   "id": "08c9b944",
   "metadata": {
    "execution": {
     "iopub.execute_input": "2024-05-22T16:24:35.988085Z",
     "iopub.status.busy": "2024-05-22T16:24:35.987952Z",
     "iopub.status.idle": "2024-05-22T16:24:35.989905Z",
     "shell.execute_reply": "2024-05-22T16:24:35.989557Z"
    },
    "papermill": {
     "duration": 0.003748,
     "end_time": "2024-05-22T16:24:35.990493",
     "exception": false,
     "start_time": "2024-05-22T16:24:35.986745",
     "status": "completed"
    },
    "tags": [
     "injected-parameters"
    ]
   },
   "outputs": [],
   "source": [
    "# Parameters\n",
    "WITNESS_NAME = \"CONCURRENCE\"\n"
   ]
  },
  {
   "cell_type": "code",
   "execution_count": 5,
   "id": "b14ed46b",
   "metadata": {
    "execution": {
     "iopub.execute_input": "2024-05-22T16:24:35.992564Z",
     "iopub.status.busy": "2024-05-22T16:24:35.992339Z",
     "iopub.status.idle": "2024-05-22T16:24:35.995568Z",
     "shell.execute_reply": "2024-05-22T16:24:35.995328Z"
    },
    "papermill": {
     "duration": 0.005026,
     "end_time": "2024-05-22T16:24:35.996255",
     "exception": false,
     "start_time": "2024-05-22T16:24:35.991229",
     "status": "completed"
    },
    "tags": []
   },
   "outputs": [],
   "source": [
    "def get_simulated_training_data(entanglement_witness, samples_nb=2000):\n",
    "    samples_states = []\n",
    "    samples_is_entangled = []\n",
    "    \n",
    "    for _ in range(0, samples_nb):\n",
    "        # Create an entangled state in the form: cos(theta)|00> + exp(i*phi)*sin(theta)|11>\n",
    "        theta = np.random.uniform(0, np.pi)\n",
    "        phi = np.random.uniform(0, 2 * np.pi)\n",
    "        state = (np.cos(theta) * tensor(basis(2, 0), basis(2, 0)) +\n",
    "                 np.exp(1j * phi) * np.sin(theta) * tensor(basis(2, 1), basis(2, 1)))\n",
    "        samples_states.append(state)\n",
    "        samples_is_entangled.append(entanglement_witness(state))\n",
    "    \n",
    "        # Create an entangled state in the form: cos(theta)|01> + exp(i*phi)*sin(theta)|01>\n",
    "        theta = np.random.uniform(0, np.pi)\n",
    "        phi = np.random.uniform(0, 2 * np.pi)\n",
    "        state = (np.cos(theta) * tensor(basis(2, 0), basis(2, 1)) +\n",
    "                 np.exp(1j * phi) * np.sin(theta) * tensor(basis(2, 1), basis(2, 0)))\n",
    "        samples_states.append(state)\n",
    "        is_entangled = entanglement_witness(state)\n",
    "        samples_is_entangled.append(is_entangled)\n",
    "    \n",
    "        # Create a separable state |psi> X |phi>\n",
    "        state = tensor(rand_ket(2), rand_ket(2)).unit()\n",
    "        samples_states.append(state)\n",
    "        is_entangled = entanglement_witness(state)\n",
    "        samples_is_entangled.append(is_entangled)\n",
    "\n",
    "    return samples_states, samples_is_entangled"
   ]
  },
  {
   "cell_type": "code",
   "execution_count": 6,
   "id": "cfa3e90a",
   "metadata": {
    "execution": {
     "iopub.execute_input": "2024-05-22T16:24:35.998136Z",
     "iopub.status.busy": "2024-05-22T16:24:35.997964Z",
     "iopub.status.idle": "2024-05-22T16:24:37.350168Z",
     "shell.execute_reply": "2024-05-22T16:24:37.349662Z"
    },
    "papermill": {
     "duration": 1.354252,
     "end_time": "2024-05-22T16:24:37.351195",
     "exception": false,
     "start_time": "2024-05-22T16:24:35.996943",
     "status": "completed"
    },
    "tags": []
   },
   "outputs": [],
   "source": [
    "simulated_data = {}\n",
    "parameter_witness = {WITNESS_NAME: witnesses[WITNESS_NAME]}\n",
    "\n",
    "for name, witness in parameter_witness.items():\n",
    "    samples_states, samples_is_entangled =  get_simulated_training_data(witness)\n",
    "\n",
    "    simulated_data[name] = {\n",
    "        \"states\": samples_states,\n",
    "        \"entanglement\": samples_is_entangled\n",
    "    }"
   ]
  },
  {
   "cell_type": "code",
   "execution_count": 7,
   "id": "8a45962f",
   "metadata": {
    "execution": {
     "iopub.execute_input": "2024-05-22T16:24:37.356372Z",
     "iopub.status.busy": "2024-05-22T16:24:37.356259Z",
     "iopub.status.idle": "2024-05-22T16:24:37.371632Z",
     "shell.execute_reply": "2024-05-22T16:24:37.371343Z"
    },
    "papermill": {
     "duration": 0.020219,
     "end_time": "2024-05-22T16:24:37.372469",
     "exception": false,
     "start_time": "2024-05-22T16:24:37.352250",
     "status": "completed"
    },
    "tags": []
   },
   "outputs": [],
   "source": [
    "for name, data in simulated_data.items():\n",
    "    states = data[\"states\"]\n",
    "    labels = np.array(data[\"entanglement\"])\n",
    "    flatten_states = np.array([np.concatenate([state.full().real.flatten(), state.full().imag.flatten()]) for state in samples_states])\n",
    "\n",
    "    file_path = \"./simulated_data/simulation-{}.npz\".format(name)\n",
    "    np.savez(file_path, states=flatten_states, labels=labels)"
   ]
  }
 ],
 "metadata": {
  "kernelspec": {
   "display_name": "quantum-entanglement",
   "language": "python",
   "name": "python3"
  },
  "language_info": {
   "codemirror_mode": {
    "name": "ipython",
    "version": 3
   },
   "file_extension": ".py",
   "mimetype": "text/x-python",
   "name": "python",
   "nbconvert_exporter": "python",
   "pygments_lexer": "ipython3",
   "version": "3.11.9"
  },
  "papermill": {
   "default_parameters": {},
   "duration": 6.332935,
   "end_time": "2024-05-22T16:24:37.589016",
   "environment_variables": {},
   "exception": null,
   "input_path": "00-Simulation.ipynb",
   "output_path": "./executed_notebooks/00-Simulation-CONCURRENCE.ipynb",
   "parameters": {
    "WITNESS_NAME": "CONCURRENCE"
   },
   "start_time": "2024-05-22T16:24:31.256081",
   "version": "2.6.0"
  }
 },
 "nbformat": 4,
 "nbformat_minor": 5
}
