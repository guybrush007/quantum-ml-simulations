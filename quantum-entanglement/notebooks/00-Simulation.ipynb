{
 "cells": [
  {
   "cell_type": "markdown",
   "metadata": {},
   "source": [
    "# Simulation notebook"
   ]
  },
  {
   "cell_type": "code",
   "execution_count": null,
   "metadata": {
    "tags": [
     "parameters"
    ]
   },
   "outputs": [],
   "source": [
    "# Parameters cells\n",
    "WITNESS_NAME = \"CHSH\"\n",
    "SIMULATION_PATH = \"./simulated_data\"\n",
    "MLFLOW_URL = \"http://localhost:5000\"\n",
    "AIRFLOW_DAG_RUN_ID = \"test-dm-chsh\"\n",
    "AWS_ACCESS_KEY_ID=\"minio123\"\n",
    "AWS_SECRET_ACCESS_KEY=\"minio123\"\n",
    "MLFLOW_S3_ENDPOINT_URL=\"http://localhost:9990\""
   ]
  },
  {
   "cell_type": "code",
   "execution_count": null,
   "metadata": {},
   "outputs": [],
   "source": [
    "from os import environ\n",
    "\n",
    "environ[\"AWS_ACCESS_KEY_ID\"] = AWS_ACCESS_KEY_ID\n",
    "environ[\"AWS_SECRET_ACCESS_KEY\"] = AWS_SECRET_ACCESS_KEY"
   ]
  },
  {
   "cell_type": "code",
   "execution_count": null,
   "metadata": {},
   "outputs": [],
   "source": [
    "from qutip import basis, tensor, rand_ket\n",
    "import numpy as np\n",
    "from entanglement_witnesses import witnesses\n",
    "import mlflow"
   ]
  },
  {
   "cell_type": "code",
   "execution_count": null,
   "metadata": {},
   "outputs": [],
   "source": [
    "if MLFLOW_URL is not None:\n",
    "    environ[\"MLFLOW_S3_ENDPOINT_URL\"] = MLFLOW_S3_ENDPOINT_URL\n",
    "    mlflow.set_tracking_uri(MLFLOW_URL)"
   ]
  },
  {
   "cell_type": "code",
   "execution_count": null,
   "metadata": {},
   "outputs": [],
   "source": [
    "from simulation_utils import get_simulation_methods_for_witness\n",
    "\n",
    "def get_simulated_training_data(entanglement_witness, witness_name, samples_nb=500):\n",
    "    samples_states = []\n",
    "    samples_is_entangled = []\n",
    "    for simulation_method in get_simulation_methods_for_witness(witness_name):\n",
    "        for _ in range(0, samples_nb):\n",
    "            state_dm = simulation_method()\n",
    "            samples_states.append(state_dm)\n",
    "            is_entangled = entanglement_witness(state_dm)\n",
    "            samples_is_entangled.append(is_entangled)\n",
    "\n",
    "    return samples_states, samples_is_entangled"
   ]
  },
  {
   "cell_type": "code",
   "execution_count": null,
   "metadata": {},
   "outputs": [],
   "source": [
    "simulated_data = {}\n",
    "\n",
    "if WITNESS_NAME is not None:\n",
    "    parameter_witnesses = {WITNESS_NAME: witnesses[WITNESS_NAME]}\n",
    "else: \n",
    "    parameter_witnesses = witnesses\n",
    "\n",
    "for name, witness in parameter_witnesses.items():\n",
    "    samples_states, samples_is_entangled =  get_simulated_training_data(witness, name)\n",
    "\n",
    "    simulated_data[name] = {\n",
    "        \"states\": samples_states,\n",
    "        \"entanglement\": samples_is_entangled\n",
    "    }"
   ]
  },
  {
   "cell_type": "code",
   "execution_count": null,
   "metadata": {},
   "outputs": [],
   "source": [
    "from simulation_utils import flatten_density_matrix\n",
    "\n",
    "for name, data in simulated_data.items():\n",
    "    states = data[\"states\"]\n",
    "    labels = np.array(data[\"entanglement\"])\n",
    "\n",
    "    flatten_states = [flatten_density_matrix(state) for state in states]\n",
    "\n",
    "    file_path = \"{}/simulation-{}.npz\".format(SIMULATION_PATH, name)\n",
    "    np.savez(file_path, states=np.array(flatten_states), labels=labels)\n",
    "\n",
    "    if MLFLOW_URL is not None:\n",
    "        mlflow.set_experiment('ML Quantum Entanglement')\n",
    "        with mlflow.start_run() as run:\n",
    "            mlflow.set_tag(\"airflow_dag_run_id\", AIRFLOW_DAG_RUN_ID)\n",
    "            mlflow.set_tag(\"pipeline_step\", \"simulation\")\n",
    "            mlflow.log_param(\"witness\", WITNESS_NAME)\n",
    "            mlflow.log_artifact(file_path, artifact_path=\"simulated_data\")"
   ]
  }
 ],
 "metadata": {
  "kernelspec": {
   "display_name": "quantum-entanglement",
   "language": "python",
   "name": "python3"
  },
  "language_info": {
   "codemirror_mode": {
    "name": "ipython",
    "version": 3
   },
   "file_extension": ".py",
   "mimetype": "text/x-python",
   "name": "python",
   "nbconvert_exporter": "python",
   "pygments_lexer": "ipython3",
   "version": "3.11.9"
  }
 },
 "nbformat": 4,
 "nbformat_minor": 2
}
