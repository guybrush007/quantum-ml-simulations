{
 "cells": [
  {
   "cell_type": "markdown",
   "metadata": {},
   "source": [
    "# Simulation notebook"
   ]
  },
  {
   "cell_type": "code",
   "execution_count": 1,
   "metadata": {
    "tags": [
     "parameters"
    ]
   },
   "outputs": [],
   "source": [
    "import uuid\n",
    "\n",
    "# Parameters cells\n",
    "WITNESS_NAME = None\n",
    "SIMULATION_PATH = \"./simulated_data\"\n",
    "MLFLOW_URL = None\n",
    "AIRFLOW_DAG_RUN_ID = \"local-execution\"\n",
    "AWS_ACCESS_KEY_ID=\"minio123\"\n",
    "AWS_SECRET_ACCESS_KEY=\"minio123\"\n",
    "MLFLOW_S3_ENDPOINT_URL=\"http://localhost:9990\""
   ]
  },
  {
   "cell_type": "code",
   "execution_count": 2,
   "metadata": {},
   "outputs": [],
   "source": [
    "from os import environ\n",
    "\n",
    "environ[\"AWS_ACCESS_KEY_ID\"] = AWS_ACCESS_KEY_ID\n",
    "environ[\"AWS_SECRET_ACCESS_KEY\"] = AWS_SECRET_ACCESS_KEY"
   ]
  },
  {
   "cell_type": "code",
   "execution_count": 3,
   "metadata": {},
   "outputs": [],
   "source": [
    "from qutip import basis, tensor, rand_ket\n",
    "import numpy as np\n",
    "\n",
    "from entanglement_witnesses import witnesses\n",
    "\n",
    "import mlflow"
   ]
  },
  {
   "cell_type": "code",
   "execution_count": 4,
   "metadata": {},
   "outputs": [],
   "source": [
    "if MLFLOW_URL is not None:\n",
    "    environ[\"MLFLOW_S3_ENDPOINT_URL\"] = MLFLOW_S3_ENDPOINT_URL\n",
    "    mlflow.set_tracking_uri(MLFLOW_URL)"
   ]
  },
  {
   "cell_type": "code",
   "execution_count": 5,
   "metadata": {},
   "outputs": [],
   "source": [
    "def get_simulated_training_data(entanglement_witness, samples_nb=2000):\n",
    "    samples_states = []\n",
    "    samples_is_entangled = []\n",
    "    \n",
    "    for _ in range(0, samples_nb):\n",
    "        # Create an entangled state in the form: cos(theta)|00> + exp(i*phi)*sin(theta)|11>\n",
    "        theta = np.random.uniform(0, np.pi)\n",
    "        phi = np.random.uniform(0, 2 * np.pi)\n",
    "        state = (np.cos(theta) * tensor(basis(2, 0), basis(2, 0)) +\n",
    "                 np.exp(1j * phi) * np.sin(theta) * tensor(basis(2, 1), basis(2, 1)))\n",
    "        state_dm = state * state.dag()\n",
    "        samples_states.append(state_dm)\n",
    "        is_entangled = entanglement_witness(state_dm)\n",
    "        samples_is_entangled.append(is_entangled)\n",
    "    \n",
    "        # Create an entangled state in the form: cos(theta)|01> + exp(i*phi)*sin(theta)|01>\n",
    "        theta = np.random.uniform(0, np.pi)\n",
    "        phi = np.random.uniform(0, 2 * np.pi)\n",
    "        state = (np.cos(theta) * tensor(basis(2, 0), basis(2, 1)) +\n",
    "                 np.exp(1j * phi) * np.sin(theta) * tensor(basis(2, 1), basis(2, 0)))\n",
    "        state = state * state.dag()\n",
    "        state_dm = state * state.dag()\n",
    "        samples_states.append(state_dm)\n",
    "        is_entangled = entanglement_witness(state_dm)\n",
    "        samples_is_entangled.append(is_entangled)\n",
    "    \n",
    "        # Create a separable state |psi> X |phi>\n",
    "        state = tensor(rand_ket(2), rand_ket(2)).unit()\n",
    "        state_dm = state * state.dag()\n",
    "        samples_states.append(state_dm)\n",
    "        is_entangled = entanglement_witness(state_dm)\n",
    "        samples_is_entangled.append(is_entangled)\n",
    "\n",
    "    return samples_states, samples_is_entangled"
   ]
  },
  {
   "cell_type": "code",
   "execution_count": 6,
   "metadata": {},
   "outputs": [],
   "source": [
    "simulated_data = {}\n",
    "\n",
    "if WITNESS_NAME is not None:\n",
    "    parameter_witnesses = {WITNESS_NAME: witnesses[WITNESS_NAME]}\n",
    "else: \n",
    "    parameter_witnesses = witnesses\n",
    "\n",
    "for name, witness in parameter_witnesses.items():\n",
    "    samples_states, samples_is_entangled =  get_simulated_training_data(witness)\n",
    "\n",
    "    simulated_data[name] = {\n",
    "        \"states\": samples_states,\n",
    "        \"entanglement\": samples_is_entangled\n",
    "    }"
   ]
  },
  {
   "cell_type": "code",
   "execution_count": 10,
   "metadata": {},
   "outputs": [],
   "source": [
    "for name, data in simulated_data.items():\n",
    "    states = data[\"states\"]\n",
    "    labels = np.array(data[\"entanglement\"])\n",
    "\n",
    "    flatten_states = [np.concatenate([np.real(state.full()).flatten(), np.imag(state.full()).flatten()]) for state in states]\n",
    "\n",
    "    file_path = \"{}/simulation-{}.npz\".format(SIMULATION_PATH, name)\n",
    "    np.savez(file_path, states=np.array(flatten_states), labels=labels)\n",
    "\n",
    "    if MLFLOW_URL is not None:\n",
    "        mlflow.set_experiment('ML Quantum Entanglement')\n",
    "        with mlflow.start_run() as run:\n",
    "            mlflow.set_tag(\"airflow_dag_run_id\", AIRFLOW_DAG_RUN_ID)\n",
    "            mlflow.log_artifact(file_path, artifact_path=\"simulated_data\")"
   ]
  }
 ],
 "metadata": {
  "kernelspec": {
   "display_name": "quantum-entanglement",
   "language": "python",
   "name": "python3"
  },
  "language_info": {
   "codemirror_mode": {
    "name": "ipython",
    "version": 3
   },
   "file_extension": ".py",
   "mimetype": "text/x-python",
   "name": "python",
   "nbconvert_exporter": "python",
   "pygments_lexer": "ipython3",
   "version": "3.11.9"
  }
 },
 "nbformat": 4,
 "nbformat_minor": 2
}
