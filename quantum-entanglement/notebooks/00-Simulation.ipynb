{
 "cells": [
  {
   "cell_type": "markdown",
   "metadata": {},
   "source": [
    "# Simulation notebook"
   ]
  },
  {
   "cell_type": "code",
   "execution_count": 1,
   "metadata": {},
   "outputs": [],
   "source": [
    "%%capture\n",
    "%pip install -r requirements-dev.txt"
   ]
  },
  {
   "cell_type": "code",
   "execution_count": null,
   "metadata": {
    "tags": [
     "parameters"
    ]
   },
   "outputs": [],
   "source": [
    "# Parameters cells\n",
    "WITNESS_NAME = \"CHSH\"\n",
    "SIMULATION_PATH = \"./simulated_data\""
   ]
  },
  {
   "cell_type": "code",
   "execution_count": 2,
   "metadata": {},
   "outputs": [],
   "source": [
    "from qutip import basis, tensor, rand_ket\n",
    "import numpy as np\n",
    "\n",
    "from entanglement_witnesses import witnesses"
   ]
  },
  {
   "cell_type": "code",
   "execution_count": 3,
   "metadata": {},
   "outputs": [],
   "source": [
    "def get_simulated_training_data(entanglement_witness, samples_nb=2000):\n",
    "    samples_states = []\n",
    "    samples_is_entangled = []\n",
    "    \n",
    "    for _ in range(0, samples_nb):\n",
    "        # Create an entangled state in the form: cos(theta)|00> + exp(i*phi)*sin(theta)|11>\n",
    "        theta = np.random.uniform(0, np.pi)\n",
    "        phi = np.random.uniform(0, 2 * np.pi)\n",
    "        state = (np.cos(theta) * tensor(basis(2, 0), basis(2, 0)) +\n",
    "                 np.exp(1j * phi) * np.sin(theta) * tensor(basis(2, 1), basis(2, 1)))\n",
    "        samples_states.append(state)\n",
    "        samples_is_entangled.append(entanglement_witness(state))\n",
    "    \n",
    "        # Create an entangled state in the form: cos(theta)|01> + exp(i*phi)*sin(theta)|01>\n",
    "        theta = np.random.uniform(0, np.pi)\n",
    "        phi = np.random.uniform(0, 2 * np.pi)\n",
    "        state = (np.cos(theta) * tensor(basis(2, 0), basis(2, 1)) +\n",
    "                 np.exp(1j * phi) * np.sin(theta) * tensor(basis(2, 1), basis(2, 0)))\n",
    "        samples_states.append(state)\n",
    "        is_entangled = entanglement_witness(state)\n",
    "        samples_is_entangled.append(is_entangled)\n",
    "    \n",
    "        # Create a separable state |psi> X |phi>\n",
    "        state = tensor(rand_ket(2), rand_ket(2)).unit()\n",
    "        samples_states.append(state)\n",
    "        is_entangled = entanglement_witness(state)\n",
    "        samples_is_entangled.append(is_entangled)\n",
    "\n",
    "    return samples_states, samples_is_entangled"
   ]
  },
  {
   "cell_type": "code",
   "execution_count": 4,
   "metadata": {},
   "outputs": [],
   "source": [
    "simulated_data = {}\n",
    "parameter_witness = {WITNESS_NAME: witnesses[WITNESS_NAME]}\n",
    "\n",
    "for name, witness in parameter_witness.items():\n",
    "    samples_states, samples_is_entangled =  get_simulated_training_data(witness)\n",
    "\n",
    "    simulated_data[name] = {\n",
    "        \"states\": samples_states,\n",
    "        \"entanglement\": samples_is_entangled\n",
    "    }"
   ]
  },
  {
   "cell_type": "code",
   "execution_count": 5,
   "metadata": {},
   "outputs": [],
   "source": [
    "for name, data in simulated_data.items():\n",
    "    states = data[\"states\"]\n",
    "    labels = np.array(data[\"entanglement\"])\n",
    "    flatten_states = np.array([np.concatenate([state.full().real.flatten(), state.full().imag.flatten()]) for state in samples_states])\n",
    "\n",
    "    file_path = \"{}/simulation-{}.npz\".format(SIMULATION_PATH, name)\n",
    "    np.savez(file_path, states=flatten_states, labels=labels)"
   ]
  }
 ],
 "metadata": {
  "kernelspec": {
   "display_name": "quantum-entanglement",
   "language": "python",
   "name": "python3"
  },
  "language_info": {
   "codemirror_mode": {
    "name": "ipython",
    "version": 3
   },
   "file_extension": ".py",
   "mimetype": "text/x-python",
   "name": "python",
   "nbconvert_exporter": "python",
   "pygments_lexer": "ipython3",
   "version": "3.11.9"
  }
 },
 "nbformat": 4,
 "nbformat_minor": 2
}
