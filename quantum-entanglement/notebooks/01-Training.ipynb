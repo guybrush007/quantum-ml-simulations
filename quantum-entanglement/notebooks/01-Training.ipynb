{
 "cells": [
  {
   "cell_type": "markdown",
   "metadata": {},
   "source": [
    "# Training"
   ]
  },
  {
   "cell_type": "code",
   "execution_count": null,
   "metadata": {
    "tags": [
     "parameters"
    ]
   },
   "outputs": [],
   "source": [
    "# Parameters cells\n",
    "WITNESS_NAME = \"CHSH\"\n",
    "SIMULATION_PATH = \"./simulated_data\"\n",
    "MLFLOW_URL = \"http://localhost:5000\"\n",
    "AIRFLOW_DAG_RUN_ID = \"test-dm-chsh\"\n",
    "AWS_ACCESS_KEY_ID=\"minio123\"\n",
    "AWS_SECRET_ACCESS_KEY=\"minio123\"\n",
    "MLFLOW_S3_ENDPOINT_URL=\"http://localhost:9990\""
   ]
  },
  {
   "cell_type": "code",
   "execution_count": null,
   "metadata": {},
   "outputs": [],
   "source": [
    "from os import environ\n",
    "\n",
    "environ[\"AWS_ACCESS_KEY_ID\"] = AWS_ACCESS_KEY_ID\n",
    "environ[\"AWS_SECRET_ACCESS_KEY\"] = AWS_SECRET_ACCESS_KEY"
   ]
  },
  {
   "cell_type": "code",
   "execution_count": null,
   "metadata": {},
   "outputs": [],
   "source": [
    "import numpy as np\n",
    "import tensorflow as tf;\n",
    "from sklearn.model_selection import train_test_split\n",
    "import matplotlib.pyplot as plt\n",
    "from entanglement_witnesses import witnesses\n",
    "import mlflow\n",
    "import os"
   ]
  },
  {
   "cell_type": "code",
   "execution_count": null,
   "metadata": {},
   "outputs": [],
   "source": [
    "if MLFLOW_URL is not None:\n",
    "    mlflow.set_tracking_uri(MLFLOW_URL)\n",
    "    environ[\"MLFLOW_S3_ENDPOINT_URL\"] = MLFLOW_S3_ENDPOINT_URL"
   ]
  },
  {
   "cell_type": "code",
   "execution_count": null,
   "metadata": {},
   "outputs": [],
   "source": [
    "def get_model(name, data_file_path):\n",
    "\n",
    "    data = np.load(data_file_path)\n",
    "    simulated_states = data[\"states\"]\n",
    "    simulated_labels = data[\"labels\"]\n",
    "\n",
    "    model = tf.keras.models.Sequential([\n",
    "    tf.keras.layers.Dense(128, activation='relu', input_shape=(simulated_states.shape[1],)), \n",
    "    tf.keras.layers.Dense(64, activation='relu'),\n",
    "    tf.keras.layers.Dense(1, activation='sigmoid')  \n",
    "    ])\n",
    "\n",
    "    model.compile(optimizer='adam', loss='binary_crossentropy', metrics=['accuracy'])\n",
    "    \n",
    "    X_train, X_val, y_train, y_val = train_test_split(simulated_states, simulated_labels, test_size=0.2, random_state=42)\n",
    "    history = model.fit(X_train, y_train, epochs=20, validation_data=(X_val, y_val))\n",
    "    loss, accuracy = model.evaluate(X_val, y_val)\n",
    "\n",
    "    metrics = {\n",
    "        \"loss\": loss,\n",
    "        \"accuracy\": accuracy\n",
    "    }\n",
    "\n",
    "    plt.plot(history.history['accuracy'], label='Accuracy')\n",
    "    plt.plot(history.history['val_accuracy'], label='Validation Accuracy')\n",
    "    plt.title('Model {} Accuracy'.format(name))\n",
    "    plt.ylabel('Accuracy')\n",
    "    plt.xlabel('Epoch')\n",
    "    plt.legend()\n",
    "    plt.show()\n",
    "    \n",
    "    plt.plot(history.history['loss'], label='Loss')\n",
    "    plt.plot(history.history['val_loss'], label='Validation Loss')\n",
    "    plt.title('Model {} Loss'.format(name))\n",
    "    plt.ylabel('Loss')\n",
    "    plt.xlabel('Epoch')\n",
    "    plt.legend()\n",
    "    plt.show()\n",
    "\n",
    "    return model, metrics"
   ]
  },
  {
   "cell_type": "code",
   "execution_count": null,
   "metadata": {},
   "outputs": [],
   "source": [
    "def get_simulation_data_path(name):\n",
    "    filename = \"simulation-{}.npz\".format(name)\n",
    "    if AIRFLOW_DAG_RUN_ID is None:\n",
    "        data_file_path = os.path.join(\"./simulated_data\", filename)\n",
    "    else:\n",
    "        client = mlflow.tracking.MlflowClient()\n",
    "\n",
    "        experiments = client.search_experiments(\n",
    "            filter_string = \"name = 'ML Quantum Entanglement'\"\n",
    "        )\n",
    "        experiment_id = experiments[0].experiment_id\n",
    "\n",
    "        runs = client.search_runs(\n",
    "            experiment_ids=[experiment_id], \n",
    "            filter_string=f\"tags.airflow_dag_run_id = '{AIRFLOW_DAG_RUN_ID}'\"\n",
    "        )\n",
    "        run_id = runs[0].info.run_id\n",
    "        local_path = mlflow.artifacts.download_artifacts(run_id=run_id, artifact_path=\"simulated_data\")\n",
    "        data_file_path = os.path.join(local_path, filename)\n",
    "    return data_file_path"
   ]
  },
  {
   "cell_type": "code",
   "execution_count": null,
   "metadata": {},
   "outputs": [],
   "source": [
    "from simulation_utils import flatten_density_matrix\n",
    "from qutip import rand_dm\n",
    "\n",
    "def log_mlflow_model(model, witness_name, metrics):\n",
    "    if MLFLOW_URL is None:\n",
    "        return\n",
    "    \n",
    "    mlflow.set_experiment('ML Quantum Entanglement')\n",
    "\n",
    "    input_example = tf.constant(flatten_density_matrix(rand_dm))\n",
    "    \n",
    "    # Start an MLflow run and log the model\n",
    "    with mlflow.start_run() as run:\n",
    "        # Log the model\n",
    "        mlflow.tensorflow.log_model(model, \"model\", input_example)\n",
    "\n",
    "        # Log parameters\n",
    "        mlflow.log_param(\"witness\", witness_name)\n",
    "\n",
    "        # Evaluate the model and log metrics\n",
    "        for metric_name, metric_value in metrics.items():\n",
    "            mlflow.log_metric(metric_name, metric_value)\n",
    "\n",
    "        # Register the model\n",
    "        model_name = \"QuantumStateClassifier-\" + witness_name\n",
    "        model_uri = f\"runs:/{run.info.run_id}/model\"\n",
    "        mlflow.register_model(model_uri, model_name)\n",
    "        print(f\"Model saved in run {run.info.run_id}\")"
   ]
  },
  {
   "cell_type": "code",
   "execution_count": null,
   "metadata": {},
   "outputs": [],
   "source": [
    "models = {}\n",
    "if WITNESS_NAME is not None:\n",
    "    parameter_witnesses = {WITNESS_NAME: witnesses[WITNESS_NAME]}\n",
    "else: \n",
    "    parameter_witnesses = witnesses\n",
    "\n",
    "for name, witness in parameter_witnesses.items():\n",
    "    data_file_path = get_simulation_data_path(name)\n",
    "    model, metrics = get_model(name, data_file_path)\n",
    "    log_mlflow_model(model, name, metrics)\n",
    "    models[name] = {\"model\": model, \"witness\": witness}\n"
   ]
  }
 ],
 "metadata": {
  "kernelspec": {
   "display_name": "Python 3 (ipykernel)",
   "language": "python",
   "name": "python3"
  },
  "language_info": {
   "codemirror_mode": {
    "name": "ipython",
    "version": 3
   },
   "file_extension": ".py",
   "mimetype": "text/x-python",
   "name": "python",
   "nbconvert_exporter": "python",
   "pygments_lexer": "ipython3",
   "version": "3.11.9"
  }
 },
 "nbformat": 4,
 "nbformat_minor": 4
}
