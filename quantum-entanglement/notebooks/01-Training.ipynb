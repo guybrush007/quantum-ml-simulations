{
 "cells": [
  {
   "cell_type": "markdown",
   "metadata": {},
   "source": [
    "# Training"
   ]
  },
  {
   "cell_type": "code",
   "execution_count": 1,
   "metadata": {
    "tags": [
     "parameters"
    ]
   },
   "outputs": [],
   "source": [
    "# Parameters cells\n",
    "WITNESS_NAME = \"CHSH\"\n",
    "SIMULATION_PATH = \"./simulated_data\"\n",
    "MLFLOW_URL = \"http://localhost:5000\"\n",
    "AIRFLOW_DAG_RUN_ID = \"test-dm-chsh\"\n",
    "AWS_ACCESS_KEY_ID=\"minio123\"\n",
    "AWS_SECRET_ACCESS_KEY=\"minio123\"\n",
    "MLFLOW_S3_ENDPOINT_URL=\"http://localhost:9990\""
   ]
  },
  {
   "cell_type": "code",
   "execution_count": 2,
   "metadata": {},
   "outputs": [],
   "source": [
    "from os import environ\n",
    "\n",
    "environ[\"AWS_ACCESS_KEY_ID\"] = AWS_ACCESS_KEY_ID\n",
    "environ[\"AWS_SECRET_ACCESS_KEY\"] = AWS_SECRET_ACCESS_KEY"
   ]
  },
  {
   "cell_type": "code",
   "execution_count": 3,
   "metadata": {},
   "outputs": [
    {
     "name": "stderr",
     "output_type": "stream",
     "text": [
      "2024-06-02 14:54:34.541150: I tensorflow/core/util/port.cc:113] oneDNN custom operations are on. You may see slightly different numerical results due to floating-point round-off errors from different computation orders. To turn them off, set the environment variable `TF_ENABLE_ONEDNN_OPTS=0`.\n",
      "2024-06-02 14:54:34.569656: I tensorflow/core/platform/cpu_feature_guard.cc:210] This TensorFlow binary is optimized to use available CPU instructions in performance-critical operations.\n",
      "To enable the following instructions: AVX2 AVX_VNNI FMA, in other operations, rebuild TensorFlow with the appropriate compiler flags.\n",
      "2024-06-02 14:54:35.025133: W tensorflow/compiler/tf2tensorrt/utils/py_utils.cc:38] TF-TRT Warning: Could not find TensorRT\n"
     ]
    }
   ],
   "source": [
    "import numpy as np\n",
    "import tensorflow as tf;\n",
    "from sklearn.model_selection import train_test_split\n",
    "import matplotlib.pyplot as plt\n",
    "from entanglement_witnesses import witnesses\n",
    "import mlflow\n",
    "import os"
   ]
  },
  {
   "cell_type": "code",
   "execution_count": 4,
   "metadata": {},
   "outputs": [],
   "source": [
    "if MLFLOW_URL is not None:\n",
    "    mlflow.set_tracking_uri(MLFLOW_URL)\n",
    "    environ[\"MLFLOW_S3_ENDPOINT_URL\"] = MLFLOW_S3_ENDPOINT_URL"
   ]
  },
  {
   "cell_type": "code",
   "execution_count": 5,
   "metadata": {},
   "outputs": [],
   "source": [
    "def get_model(name, data_file_path):\n",
    "\n",
    "    data = np.load(data_file_path)\n",
    "    simulated_states = data[\"states\"]\n",
    "    simulated_labels = data[\"labels\"]\n",
    "\n",
    "    model = tf.keras.models.Sequential([\n",
    "    tf.keras.layers.Dense(128, activation='relu', input_shape=(simulated_states.shape[1],)),  # Adjust input shape based on your data\n",
    "    tf.keras.layers.Dense(64, activation='relu'),\n",
    "    tf.keras.layers.Dense(1, activation='sigmoid')  # Output layer for binary classification\n",
    "    ])\n",
    "\n",
    "    model.compile(optimizer='adam', loss='binary_crossentropy', metrics=['accuracy'])\n",
    "    \n",
    "    X_train, X_val, y_train, y_val = train_test_split(simulated_states, simulated_labels, test_size=0.2, random_state=42)\n",
    "    history = model.fit(X_train, y_train, epochs=20, validation_data=(X_val, y_val))\n",
    "    loss, accuracy = model.evaluate(X_val, y_val)\n",
    "\n",
    "    metrics = {\n",
    "        \"loss\": loss,\n",
    "        \"accuracy\": accuracy\n",
    "    }\n",
    "\n",
    "    plt.plot(history.history['accuracy'], label='Accuracy')\n",
    "    plt.plot(history.history['val_accuracy'], label='Validation Accuracy')\n",
    "    plt.title('Model {} Accuracy'.format(name))\n",
    "    plt.ylabel('Accuracy')\n",
    "    plt.xlabel('Epoch')\n",
    "    plt.legend()\n",
    "    plt.show()\n",
    "    \n",
    "    plt.plot(history.history['loss'], label='Loss')\n",
    "    plt.plot(history.history['val_loss'], label='Validation Loss')\n",
    "    plt.title('Model {} Loss'.format(name))\n",
    "    plt.ylabel('Loss')\n",
    "    plt.xlabel('Epoch')\n",
    "    plt.legend()\n",
    "    plt.show()\n",
    "\n",
    "    return model, metrics"
   ]
  },
  {
   "cell_type": "code",
   "execution_count": 6,
   "metadata": {},
   "outputs": [],
   "source": [
    "def get_simulation_data_path(name):\n",
    "    filename = \"simulation-{}.npz\".format(name)\n",
    "    if AIRFLOW_DAG_RUN_ID is None:\n",
    "        data_file_path = os.path.join(\"./simulated_data\", filename)\n",
    "    else:\n",
    "        client = mlflow.tracking.MlflowClient()\n",
    "\n",
    "        experiments = client.search_experiments(\n",
    "            filter_string = \"name = 'ML Quantum Entanglement'\"\n",
    "        )\n",
    "        experiment_id = experiments[0].experiment_id\n",
    "\n",
    "        runs = client.search_runs(\n",
    "            experiment_ids=[experiment_id], \n",
    "            filter_string=f\"tags.airflow_dag_run_id = '{AIRFLOW_DAG_RUN_ID}'\"\n",
    "        )\n",
    "        run_id = runs[0].info.run_id\n",
    "        local_path = mlflow.artifacts.download_artifacts(run_id=run_id, artifact_path=\"simulated_data\")\n",
    "        data_file_path = os.path.join(local_path, filename)\n",
    "    return data_file_path"
   ]
  },
  {
   "cell_type": "code",
   "execution_count": 7,
   "metadata": {},
   "outputs": [],
   "source": [
    "def log_mlflow_model(model, witness_name, metrics):\n",
    "    if MLFLOW_URL is None:\n",
    "        return\n",
    "    \n",
    "    mlflow.set_experiment('ML Quantum Entanglement')\n",
    "    \n",
    "    # Start an MLflow run and log the model\n",
    "    with mlflow.start_run() as run:\n",
    "        # Log the model\n",
    "        mlflow.tensorflow.log_model(model, \"model\")\n",
    "\n",
    "        # Log parameters\n",
    "        mlflow.log_param(\"witness\", witness_name)\n",
    "\n",
    "        # Evaluate the model and log metrics\n",
    "        for metric_name, metric_value in metrics.items():\n",
    "            mlflow.log_metric(metric_name, metric_value)\n",
    "\n",
    "        # Register the model\n",
    "        model_name = \"QuantumStateClassifier-\" + witness_name\n",
    "        model_uri = f\"runs:/{run.info.run_id}/model\"\n",
    "        mlflow.register_model(model_uri, model_name)\n",
    "        print(f\"Model saved in run {run.info.run_id}\")"
   ]
  },
  {
   "cell_type": "code",
   "execution_count": 8,
   "metadata": {},
   "outputs": [
    {
     "data": {
      "application/vnd.jupyter.widget-view+json": {
       "model_id": "a6b5a8deb4ec4cf29d47c50442dbf5f1",
       "version_major": 2,
       "version_minor": 0
      },
      "text/plain": [
       "Downloading artifacts:   0%|          | 0/1 [00:00<?, ?it/s]"
      ]
     },
     "metadata": {},
     "output_type": "display_data"
    },
    {
     "ename": "FileNotFoundError",
     "evalue": "[Errno 2] No such file or directory: '/tmp/tmp___zv_6f/simulated_data/simulation-CONCURRENCE.npz'",
     "output_type": "error",
     "traceback": [
      "\u001b[0;31m---------------------------------------------------------------------------\u001b[0m",
      "\u001b[0;31mFileNotFoundError\u001b[0m                         Traceback (most recent call last)",
      "Cell \u001b[0;32mIn[8], line 9\u001b[0m\n\u001b[1;32m      7\u001b[0m \u001b[38;5;28;01mfor\u001b[39;00m name, witness \u001b[38;5;129;01min\u001b[39;00m parameter_witnesses\u001b[38;5;241m.\u001b[39mitems():\n\u001b[1;32m      8\u001b[0m     data_file_path \u001b[38;5;241m=\u001b[39m get_simulation_data_path(name)\n\u001b[0;32m----> 9\u001b[0m     model, metrics \u001b[38;5;241m=\u001b[39m \u001b[43mget_model\u001b[49m\u001b[43m(\u001b[49m\u001b[43mname\u001b[49m\u001b[43m,\u001b[49m\u001b[43m \u001b[49m\u001b[43mdata_file_path\u001b[49m\u001b[43m)\u001b[49m\n\u001b[1;32m     10\u001b[0m     log_mlflow_model(model, name, metrics)\n\u001b[1;32m     11\u001b[0m     models[name] \u001b[38;5;241m=\u001b[39m {\u001b[38;5;124m\"\u001b[39m\u001b[38;5;124mmodel\u001b[39m\u001b[38;5;124m\"\u001b[39m: model, \u001b[38;5;124m\"\u001b[39m\u001b[38;5;124mwitness\u001b[39m\u001b[38;5;124m\"\u001b[39m: witness}\n",
      "Cell \u001b[0;32mIn[5], line 3\u001b[0m, in \u001b[0;36mget_model\u001b[0;34m(name, data_file_path)\u001b[0m\n\u001b[1;32m      1\u001b[0m \u001b[38;5;28;01mdef\u001b[39;00m \u001b[38;5;21mget_model\u001b[39m(name, data_file_path):\n\u001b[0;32m----> 3\u001b[0m     data \u001b[38;5;241m=\u001b[39m \u001b[43mnp\u001b[49m\u001b[38;5;241;43m.\u001b[39;49m\u001b[43mload\u001b[49m\u001b[43m(\u001b[49m\u001b[43mdata_file_path\u001b[49m\u001b[43m)\u001b[49m\n\u001b[1;32m      4\u001b[0m     simulated_states \u001b[38;5;241m=\u001b[39m data[\u001b[38;5;124m\"\u001b[39m\u001b[38;5;124mstates\u001b[39m\u001b[38;5;124m\"\u001b[39m]\n\u001b[1;32m      5\u001b[0m     simulated_labels \u001b[38;5;241m=\u001b[39m data[\u001b[38;5;124m\"\u001b[39m\u001b[38;5;124mlabels\u001b[39m\u001b[38;5;124m\"\u001b[39m]\n",
      "File \u001b[0;32m~/anaconda3/envs/quantum-entanglement/lib/python3.11/site-packages/numpy/lib/npyio.py:427\u001b[0m, in \u001b[0;36mload\u001b[0;34m(file, mmap_mode, allow_pickle, fix_imports, encoding, max_header_size)\u001b[0m\n\u001b[1;32m    425\u001b[0m     own_fid \u001b[38;5;241m=\u001b[39m \u001b[38;5;28;01mFalse\u001b[39;00m\n\u001b[1;32m    426\u001b[0m \u001b[38;5;28;01melse\u001b[39;00m:\n\u001b[0;32m--> 427\u001b[0m     fid \u001b[38;5;241m=\u001b[39m stack\u001b[38;5;241m.\u001b[39menter_context(\u001b[38;5;28;43mopen\u001b[39;49m\u001b[43m(\u001b[49m\u001b[43mos_fspath\u001b[49m\u001b[43m(\u001b[49m\u001b[43mfile\u001b[49m\u001b[43m)\u001b[49m\u001b[43m,\u001b[49m\u001b[43m \u001b[49m\u001b[38;5;124;43m\"\u001b[39;49m\u001b[38;5;124;43mrb\u001b[39;49m\u001b[38;5;124;43m\"\u001b[39;49m\u001b[43m)\u001b[49m)\n\u001b[1;32m    428\u001b[0m     own_fid \u001b[38;5;241m=\u001b[39m \u001b[38;5;28;01mTrue\u001b[39;00m\n\u001b[1;32m    430\u001b[0m \u001b[38;5;66;03m# Code to distinguish from NumPy binary files and pickles.\u001b[39;00m\n",
      "\u001b[0;31mFileNotFoundError\u001b[0m: [Errno 2] No such file or directory: '/tmp/tmp___zv_6f/simulated_data/simulation-CONCURRENCE.npz'"
     ]
    }
   ],
   "source": [
    "models = {}\n",
    "if WITNESS_NAME is not None:\n",
    "    parameter_witnesses = {WITNESS_NAME: witnesses[WITNESS_NAME]}\n",
    "else: \n",
    "    parameter_witnesses = witnesses\n",
    "\n",
    "for name, witness in parameter_witnesses.items():\n",
    "    data_file_path = get_simulation_data_path(name)\n",
    "    model, metrics = get_model(name, data_file_path)\n",
    "    log_mlflow_model(model, name, metrics)\n",
    "    models[name] = {\"model\": model, \"witness\": witness}\n"
   ]
  }
 ],
 "metadata": {
  "kernelspec": {
   "display_name": "Python 3 (ipykernel)",
   "language": "python",
   "name": "python3"
  },
  "language_info": {
   "codemirror_mode": {
    "name": "ipython",
    "version": 3
   },
   "file_extension": ".py",
   "mimetype": "text/x-python",
   "name": "python",
   "nbconvert_exporter": "python",
   "pygments_lexer": "ipython3",
   "version": "3.11.9"
  }
 },
 "nbformat": 4,
 "nbformat_minor": 4
}
