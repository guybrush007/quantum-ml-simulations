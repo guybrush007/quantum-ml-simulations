{
 "cells": [
  {
   "cell_type": "markdown",
   "metadata": {},
   "source": [
    "# Predict"
   ]
  },
  {
   "cell_type": "code",
   "execution_count": 3,
   "metadata": {},
   "outputs": [],
   "source": [
    "from qutip import basis, tensor, rand_ket"
   ]
  },
  {
   "cell_type": "code",
   "execution_count": 7,
   "metadata": {},
   "outputs": [],
   "source": [
    "ket_0 = basis(2, 0) #|0>\n",
    "ket_1 = basis(2, 1) #|1>\n",
    "\n",
    "# Bell state phi_plus = (|00>+|11>)/sqrt(2)\n",
    "phi_plus = (tensor(ket_0, ket_0) + tensor(ket_1, ket_1)).unit()\n",
    "# Bell state phi_minus = (|00> - |11>)/sqrt(2)\n",
    "phi_minus = (tensor(ket_0, ket_0) - tensor(ket_1, ket_1)).unit()\n",
    "# Bell state psi_plus = (|01>+|10>)/sqrt(2)\n",
    "psi_plus = (tensor(ket_0, ket_1) + tensor(ket_1, ket_0)).unit()\n",
    "# Bell state psi_minus = (|01>-|10>)/sqrt(2)\n",
    "psi_minus = (tensor(ket_0, ket_1) - tensor(ket_1, ket_0)).unit()\n",
    "\n",
    "bell_states = [phi_plus, phi_minus, psi_plus, psi_minus]\n",
    "separable_states = []\n",
    "for _ in range(0, 4):\n",
    "    separable_states.append(tensor(rand_ket(2), rand_ket(2)).unit())\n",
    "\n"
   ]
  }
 ],
 "metadata": {
  "kernelspec": {
   "display_name": "Python 3 (ipykernel)",
   "language": "python",
   "name": "python3"
  },
  "language_info": {
   "codemirror_mode": {
    "name": "ipython",
    "version": 3
   },
   "file_extension": ".py",
   "mimetype": "text/x-python",
   "name": "python",
   "nbconvert_exporter": "python",
   "pygments_lexer": "ipython3",
   "version": "3.11.9"
  }
 },
 "nbformat": 4,
 "nbformat_minor": 4
}
