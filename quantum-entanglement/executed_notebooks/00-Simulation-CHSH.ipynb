{
 "cells": [
  {
   "cell_type": "markdown",
   "id": "1d754777",
   "metadata": {
    "papermill": {
     "duration": 0.001299,
     "end_time": "2024-05-22T16:24:24.709746",
     "exception": false,
     "start_time": "2024-05-22T16:24:24.708447",
     "status": "completed"
    },
    "tags": []
   },
   "source": [
    "# Simulation notebook"
   ]
  },
  {
   "cell_type": "code",
   "execution_count": 1,
   "id": "0b188720",
   "metadata": {
    "execution": {
     "iopub.execute_input": "2024-05-22T16:24:24.715059Z",
     "iopub.status.busy": "2024-05-22T16:24:24.714925Z",
     "iopub.status.idle": "2024-05-22T16:24:28.394679Z",
     "shell.execute_reply": "2024-05-22T16:24:28.394088Z"
    },
    "papermill": {
     "duration": 3.682349,
     "end_time": "2024-05-22T16:24:28.395739",
     "exception": false,
     "start_time": "2024-05-22T16:24:24.713390",
     "status": "completed"
    },
    "tags": []
   },
   "outputs": [],
   "source": [
    "%%capture\n",
    "%pip install -r requirements.txt"
   ]
  },
  {
   "cell_type": "code",
   "execution_count": 2,
   "id": "3821c1e3",
   "metadata": {
    "execution": {
     "iopub.execute_input": "2024-05-22T16:24:28.400932Z",
     "iopub.status.busy": "2024-05-22T16:24:28.400825Z",
     "iopub.status.idle": "2024-05-22T16:24:28.742349Z",
     "shell.execute_reply": "2024-05-22T16:24:28.741975Z"
    },
    "papermill": {
     "duration": 0.346592,
     "end_time": "2024-05-22T16:24:28.743270",
     "exception": false,
     "start_time": "2024-05-22T16:24:28.396678",
     "status": "completed"
    },
    "tags": []
   },
   "outputs": [],
   "source": [
    "from qutip import basis, tensor, rand_ket\n",
    "import numpy as np\n",
    "\n",
    "from entanglement_witnesses import witnesses"
   ]
  },
  {
   "cell_type": "code",
   "execution_count": 3,
   "id": "440a7837",
   "metadata": {
    "execution": {
     "iopub.execute_input": "2024-05-22T16:24:28.748291Z",
     "iopub.status.busy": "2024-05-22T16:24:28.748151Z",
     "iopub.status.idle": "2024-05-22T16:24:28.750087Z",
     "shell.execute_reply": "2024-05-22T16:24:28.749746Z"
    },
    "papermill": {
     "duration": 0.006551,
     "end_time": "2024-05-22T16:24:28.750682",
     "exception": false,
     "start_time": "2024-05-22T16:24:28.744131",
     "status": "completed"
    },
    "tags": [
     "parameters"
    ]
   },
   "outputs": [],
   "source": [
    "# Parameters cells\n",
    "WITNESS_NAME = \"CHSH\""
   ]
  },
  {
   "cell_type": "code",
   "execution_count": 4,
   "id": "960c531e",
   "metadata": {
    "execution": {
     "iopub.execute_input": "2024-05-22T16:24:28.752630Z",
     "iopub.status.busy": "2024-05-22T16:24:28.752486Z",
     "iopub.status.idle": "2024-05-22T16:24:28.754249Z",
     "shell.execute_reply": "2024-05-22T16:24:28.753944Z"
    },
    "papermill": {
     "duration": 0.003787,
     "end_time": "2024-05-22T16:24:28.755181",
     "exception": false,
     "start_time": "2024-05-22T16:24:28.751394",
     "status": "completed"
    },
    "tags": [
     "injected-parameters"
    ]
   },
   "outputs": [],
   "source": [
    "# Parameters\n",
    "WITNESS_NAME = \"CHSH\"\n"
   ]
  },
  {
   "cell_type": "code",
   "execution_count": 5,
   "id": "5ee60ba4",
   "metadata": {
    "execution": {
     "iopub.execute_input": "2024-05-22T16:24:28.758145Z",
     "iopub.status.busy": "2024-05-22T16:24:28.757998Z",
     "iopub.status.idle": "2024-05-22T16:24:28.761152Z",
     "shell.execute_reply": "2024-05-22T16:24:28.760938Z"
    },
    "papermill": {
     "duration": 0.005595,
     "end_time": "2024-05-22T16:24:28.761979",
     "exception": false,
     "start_time": "2024-05-22T16:24:28.756384",
     "status": "completed"
    },
    "tags": []
   },
   "outputs": [],
   "source": [
    "def get_simulated_training_data(entanglement_witness, samples_nb=2000):\n",
    "    samples_states = []\n",
    "    samples_is_entangled = []\n",
    "    \n",
    "    for _ in range(0, samples_nb):\n",
    "        # Create an entangled state in the form: cos(theta)|00> + exp(i*phi)*sin(theta)|11>\n",
    "        theta = np.random.uniform(0, np.pi)\n",
    "        phi = np.random.uniform(0, 2 * np.pi)\n",
    "        state = (np.cos(theta) * tensor(basis(2, 0), basis(2, 0)) +\n",
    "                 np.exp(1j * phi) * np.sin(theta) * tensor(basis(2, 1), basis(2, 1)))\n",
    "        samples_states.append(state)\n",
    "        samples_is_entangled.append(entanglement_witness(state))\n",
    "    \n",
    "        # Create an entangled state in the form: cos(theta)|01> + exp(i*phi)*sin(theta)|01>\n",
    "        theta = np.random.uniform(0, np.pi)\n",
    "        phi = np.random.uniform(0, 2 * np.pi)\n",
    "        state = (np.cos(theta) * tensor(basis(2, 0), basis(2, 1)) +\n",
    "                 np.exp(1j * phi) * np.sin(theta) * tensor(basis(2, 1), basis(2, 0)))\n",
    "        samples_states.append(state)\n",
    "        is_entangled = entanglement_witness(state)\n",
    "        samples_is_entangled.append(is_entangled)\n",
    "    \n",
    "        # Create a separable state |psi> X |phi>\n",
    "        state = tensor(rand_ket(2), rand_ket(2)).unit()\n",
    "        samples_states.append(state)\n",
    "        is_entangled = entanglement_witness(state)\n",
    "        samples_is_entangled.append(is_entangled)\n",
    "\n",
    "    return samples_states, samples_is_entangled"
   ]
  },
  {
   "cell_type": "code",
   "execution_count": 6,
   "id": "b961cf38",
   "metadata": {
    "execution": {
     "iopub.execute_input": "2024-05-22T16:24:28.764887Z",
     "iopub.status.busy": "2024-05-22T16:24:28.764762Z",
     "iopub.status.idle": "2024-05-22T16:24:30.664603Z",
     "shell.execute_reply": "2024-05-22T16:24:30.664237Z"
    },
    "papermill": {
     "duration": 1.902581,
     "end_time": "2024-05-22T16:24:30.665802",
     "exception": false,
     "start_time": "2024-05-22T16:24:28.763221",
     "status": "completed"
    },
    "tags": []
   },
   "outputs": [],
   "source": [
    "simulated_data = {}\n",
    "parameter_witness = {WITNESS_NAME: witnesses[WITNESS_NAME]}\n",
    "\n",
    "for name, witness in parameter_witness.items():\n",
    "    samples_states, samples_is_entangled =  get_simulated_training_data(witness)\n",
    "\n",
    "    simulated_data[name] = {\n",
    "        \"states\": samples_states,\n",
    "        \"entanglement\": samples_is_entangled\n",
    "    }"
   ]
  },
  {
   "cell_type": "code",
   "execution_count": 7,
   "id": "6cd76cf8",
   "metadata": {
    "execution": {
     "iopub.execute_input": "2024-05-22T16:24:30.671178Z",
     "iopub.status.busy": "2024-05-22T16:24:30.670807Z",
     "iopub.status.idle": "2024-05-22T16:24:30.687203Z",
     "shell.execute_reply": "2024-05-22T16:24:30.686688Z"
    },
    "papermill": {
     "duration": 0.021094,
     "end_time": "2024-05-22T16:24:30.688033",
     "exception": false,
     "start_time": "2024-05-22T16:24:30.666939",
     "status": "completed"
    },
    "tags": []
   },
   "outputs": [],
   "source": [
    "for name, data in simulated_data.items():\n",
    "    states = data[\"states\"]\n",
    "    labels = np.array(data[\"entanglement\"])\n",
    "    flatten_states = np.array([np.concatenate([state.full().real.flatten(), state.full().imag.flatten()]) for state in samples_states])\n",
    "\n",
    "    file_path = \"./simulated_data/simulation-{}.npz\".format(name)\n",
    "    np.savez(file_path, states=flatten_states, labels=labels)"
   ]
  }
 ],
 "metadata": {
  "kernelspec": {
   "display_name": "quantum-entanglement",
   "language": "python",
   "name": "python3"
  },
  "language_info": {
   "codemirror_mode": {
    "name": "ipython",
    "version": 3
   },
   "file_extension": ".py",
   "mimetype": "text/x-python",
   "name": "python",
   "nbconvert_exporter": "python",
   "pygments_lexer": "ipython3",
   "version": "3.11.9"
  },
  "papermill": {
   "default_parameters": {},
   "duration": 6.825017,
   "end_time": "2024-05-22T16:24:30.904728",
   "environment_variables": {},
   "exception": null,
   "input_path": "00-Simulation.ipynb",
   "output_path": "./executed_notebooks/00-Simulation-CHSH.ipynb",
   "parameters": {
    "WITNESS_NAME": "CHSH"
   },
   "start_time": "2024-05-22T16:24:24.079711",
   "version": "2.6.0"
  }
 },
 "nbformat": 4,
 "nbformat_minor": 5
}