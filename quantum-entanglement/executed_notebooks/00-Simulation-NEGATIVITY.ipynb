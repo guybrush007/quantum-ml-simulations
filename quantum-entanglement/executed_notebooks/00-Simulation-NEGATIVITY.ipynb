{
 "cells": [
  {
   "cell_type": "markdown",
   "id": "dbf79de1",
   "metadata": {
    "papermill": {
     "duration": 0.001293,
     "end_time": "2024-05-22T16:24:45.522166",
     "exception": false,
     "start_time": "2024-05-22T16:24:45.520873",
     "status": "completed"
    },
    "tags": []
   },
   "source": [
    "# Simulation notebook"
   ]
  },
  {
   "cell_type": "code",
   "execution_count": 1,
   "id": "a19cdb00",
   "metadata": {
    "execution": {
     "iopub.execute_input": "2024-05-22T16:24:45.527398Z",
     "iopub.status.busy": "2024-05-22T16:24:45.527251Z",
     "iopub.status.idle": "2024-05-22T16:24:49.236649Z",
     "shell.execute_reply": "2024-05-22T16:24:49.236249Z"
    },
    "papermill": {
     "duration": 3.711844,
     "end_time": "2024-05-22T16:24:49.237605",
     "exception": false,
     "start_time": "2024-05-22T16:24:45.525761",
     "status": "completed"
    },
    "tags": []
   },
   "outputs": [],
   "source": [
    "%%capture\n",
    "%pip install -r requirements.txt"
   ]
  },
  {
   "cell_type": "code",
   "execution_count": 2,
   "id": "cc228fe5",
   "metadata": {
    "execution": {
     "iopub.execute_input": "2024-05-22T16:24:49.242602Z",
     "iopub.status.busy": "2024-05-22T16:24:49.242469Z",
     "iopub.status.idle": "2024-05-22T16:24:49.588830Z",
     "shell.execute_reply": "2024-05-22T16:24:49.588529Z"
    },
    "papermill": {
     "duration": 0.351132,
     "end_time": "2024-05-22T16:24:49.589669",
     "exception": false,
     "start_time": "2024-05-22T16:24:49.238537",
     "status": "completed"
    },
    "tags": []
   },
   "outputs": [],
   "source": [
    "from qutip import basis, tensor, rand_ket\n",
    "import numpy as np\n",
    "\n",
    "from entanglement_witnesses import witnesses"
   ]
  },
  {
   "cell_type": "code",
   "execution_count": 3,
   "id": "22a41dc9",
   "metadata": {
    "execution": {
     "iopub.execute_input": "2024-05-22T16:24:49.591820Z",
     "iopub.status.busy": "2024-05-22T16:24:49.591685Z",
     "iopub.status.idle": "2024-05-22T16:24:49.593537Z",
     "shell.execute_reply": "2024-05-22T16:24:49.593288Z"
    },
    "papermill": {
     "duration": 0.003551,
     "end_time": "2024-05-22T16:24:49.594123",
     "exception": false,
     "start_time": "2024-05-22T16:24:49.590572",
     "status": "completed"
    },
    "tags": [
     "parameters"
    ]
   },
   "outputs": [],
   "source": [
    "# Parameters cells\n",
    "WITNESS_NAME = \"CHSH\""
   ]
  },
  {
   "cell_type": "code",
   "execution_count": 4,
   "id": "5619ca6d",
   "metadata": {
    "execution": {
     "iopub.execute_input": "2024-05-22T16:24:49.595946Z",
     "iopub.status.busy": "2024-05-22T16:24:49.595833Z",
     "iopub.status.idle": "2024-05-22T16:24:49.597320Z",
     "shell.execute_reply": "2024-05-22T16:24:49.597094Z"
    },
    "papermill": {
     "duration": 0.003246,
     "end_time": "2024-05-22T16:24:49.598057",
     "exception": false,
     "start_time": "2024-05-22T16:24:49.594811",
     "status": "completed"
    },
    "tags": [
     "injected-parameters"
    ]
   },
   "outputs": [],
   "source": [
    "# Parameters\n",
    "WITNESS_NAME = \"NEGATIVITY\"\n"
   ]
  },
  {
   "cell_type": "code",
   "execution_count": 5,
   "id": "49992040",
   "metadata": {
    "execution": {
     "iopub.execute_input": "2024-05-22T16:24:49.600045Z",
     "iopub.status.busy": "2024-05-22T16:24:49.599903Z",
     "iopub.status.idle": "2024-05-22T16:24:49.603182Z",
     "shell.execute_reply": "2024-05-22T16:24:49.602924Z"
    },
    "papermill": {
     "duration": 0.005047,
     "end_time": "2024-05-22T16:24:49.603839",
     "exception": false,
     "start_time": "2024-05-22T16:24:49.598792",
     "status": "completed"
    },
    "tags": []
   },
   "outputs": [],
   "source": [
    "def get_simulated_training_data(entanglement_witness, samples_nb=2000):\n",
    "    samples_states = []\n",
    "    samples_is_entangled = []\n",
    "    \n",
    "    for _ in range(0, samples_nb):\n",
    "        # Create an entangled state in the form: cos(theta)|00> + exp(i*phi)*sin(theta)|11>\n",
    "        theta = np.random.uniform(0, np.pi)\n",
    "        phi = np.random.uniform(0, 2 * np.pi)\n",
    "        state = (np.cos(theta) * tensor(basis(2, 0), basis(2, 0)) +\n",
    "                 np.exp(1j * phi) * np.sin(theta) * tensor(basis(2, 1), basis(2, 1)))\n",
    "        samples_states.append(state)\n",
    "        samples_is_entangled.append(entanglement_witness(state))\n",
    "    \n",
    "        # Create an entangled state in the form: cos(theta)|01> + exp(i*phi)*sin(theta)|01>\n",
    "        theta = np.random.uniform(0, np.pi)\n",
    "        phi = np.random.uniform(0, 2 * np.pi)\n",
    "        state = (np.cos(theta) * tensor(basis(2, 0), basis(2, 1)) +\n",
    "                 np.exp(1j * phi) * np.sin(theta) * tensor(basis(2, 1), basis(2, 0)))\n",
    "        samples_states.append(state)\n",
    "        is_entangled = entanglement_witness(state)\n",
    "        samples_is_entangled.append(is_entangled)\n",
    "    \n",
    "        # Create a separable state |psi> X |phi>\n",
    "        state = tensor(rand_ket(2), rand_ket(2)).unit()\n",
    "        samples_states.append(state)\n",
    "        is_entangled = entanglement_witness(state)\n",
    "        samples_is_entangled.append(is_entangled)\n",
    "\n",
    "    return samples_states, samples_is_entangled"
   ]
  },
  {
   "cell_type": "code",
   "execution_count": 6,
   "id": "9e718727",
   "metadata": {
    "execution": {
     "iopub.execute_input": "2024-05-22T16:24:49.605863Z",
     "iopub.status.busy": "2024-05-22T16:24:49.605721Z",
     "iopub.status.idle": "2024-05-22T16:24:50.914490Z",
     "shell.execute_reply": "2024-05-22T16:24:50.914126Z"
    },
    "papermill": {
     "duration": 1.31075,
     "end_time": "2024-05-22T16:24:50.915409",
     "exception": false,
     "start_time": "2024-05-22T16:24:49.604659",
     "status": "completed"
    },
    "tags": []
   },
   "outputs": [],
   "source": [
    "simulated_data = {}\n",
    "parameter_witness = {WITNESS_NAME: witnesses[WITNESS_NAME]}\n",
    "\n",
    "for name, witness in parameter_witness.items():\n",
    "    samples_states, samples_is_entangled =  get_simulated_training_data(witness)\n",
    "\n",
    "    simulated_data[name] = {\n",
    "        \"states\": samples_states,\n",
    "        \"entanglement\": samples_is_entangled\n",
    "    }"
   ]
  },
  {
   "cell_type": "code",
   "execution_count": 7,
   "id": "2b7d5758",
   "metadata": {
    "execution": {
     "iopub.execute_input": "2024-05-22T16:24:50.920410Z",
     "iopub.status.busy": "2024-05-22T16:24:50.920293Z",
     "iopub.status.idle": "2024-05-22T16:24:50.935418Z",
     "shell.execute_reply": "2024-05-22T16:24:50.935129Z"
    },
    "papermill": {
     "duration": 0.019936,
     "end_time": "2024-05-22T16:24:50.936279",
     "exception": false,
     "start_time": "2024-05-22T16:24:50.916343",
     "status": "completed"
    },
    "tags": []
   },
   "outputs": [],
   "source": [
    "for name, data in simulated_data.items():\n",
    "    states = data[\"states\"]\n",
    "    labels = np.array(data[\"entanglement\"])\n",
    "    flatten_states = np.array([np.concatenate([state.full().real.flatten(), state.full().imag.flatten()]) for state in samples_states])\n",
    "\n",
    "    file_path = \"./simulated_data/simulation-{}.npz\".format(name)\n",
    "    np.savez(file_path, states=flatten_states, labels=labels)"
   ]
  }
 ],
 "metadata": {
  "kernelspec": {
   "display_name": "quantum-entanglement",
   "language": "python",
   "name": "python3"
  },
  "language_info": {
   "codemirror_mode": {
    "name": "ipython",
    "version": 3
   },
   "file_extension": ".py",
   "mimetype": "text/x-python",
   "name": "python",
   "nbconvert_exporter": "python",
   "pygments_lexer": "ipython3",
   "version": "3.11.9"
  },
  "papermill": {
   "default_parameters": {},
   "duration": 6.263567,
   "end_time": "2024-05-22T16:24:51.152758",
   "environment_variables": {},
   "exception": null,
   "input_path": "00-Simulation.ipynb",
   "output_path": "./executed_notebooks/00-Simulation-NEGATIVITY.ipynb",
   "parameters": {
    "WITNESS_NAME": "NEGATIVITY"
   },
   "start_time": "2024-05-22T16:24:44.889191",
   "version": "2.6.0"
  }
 },
 "nbformat": 4,
 "nbformat_minor": 5
}