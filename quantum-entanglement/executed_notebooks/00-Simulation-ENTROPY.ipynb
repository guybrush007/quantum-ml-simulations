{
 "cells": [
  {
   "cell_type": "markdown",
   "id": "ddaf16f6",
   "metadata": {
    "papermill": {
     "duration": 0.000974,
     "end_time": "2024-05-22T16:24:38.575683",
     "exception": false,
     "start_time": "2024-05-22T16:24:38.574709",
     "status": "completed"
    },
    "tags": []
   },
   "source": [
    "# Simulation notebook"
   ]
  },
  {
   "cell_type": "code",
   "execution_count": 1,
   "id": "c99af95a",
   "metadata": {
    "execution": {
     "iopub.execute_input": "2024-05-22T16:24:38.580802Z",
     "iopub.status.busy": "2024-05-22T16:24:38.580595Z",
     "iopub.status.idle": "2024-05-22T16:24:42.294909Z",
     "shell.execute_reply": "2024-05-22T16:24:42.294305Z"
    },
    "papermill": {
     "duration": 3.716798,
     "end_time": "2024-05-22T16:24:42.295970",
     "exception": false,
     "start_time": "2024-05-22T16:24:38.579172",
     "status": "completed"
    },
    "tags": []
   },
   "outputs": [],
   "source": [
    "%%capture\n",
    "%pip install -r requirements.txt"
   ]
  },
  {
   "cell_type": "code",
   "execution_count": 2,
   "id": "e1a4783b",
   "metadata": {
    "execution": {
     "iopub.execute_input": "2024-05-22T16:24:42.301150Z",
     "iopub.status.busy": "2024-05-22T16:24:42.301043Z",
     "iopub.status.idle": "2024-05-22T16:24:42.642953Z",
     "shell.execute_reply": "2024-05-22T16:24:42.642456Z"
    },
    "papermill": {
     "duration": 0.347084,
     "end_time": "2024-05-22T16:24:42.643961",
     "exception": false,
     "start_time": "2024-05-22T16:24:42.296877",
     "status": "completed"
    },
    "tags": []
   },
   "outputs": [],
   "source": [
    "from qutip import basis, tensor, rand_ket\n",
    "import numpy as np\n",
    "\n",
    "from entanglement_witnesses import witnesses"
   ]
  },
  {
   "cell_type": "code",
   "execution_count": 3,
   "id": "3d1eac94",
   "metadata": {
    "execution": {
     "iopub.execute_input": "2024-05-22T16:24:42.649181Z",
     "iopub.status.busy": "2024-05-22T16:24:42.649065Z",
     "iopub.status.idle": "2024-05-22T16:24:42.651105Z",
     "shell.execute_reply": "2024-05-22T16:24:42.650864Z"
    },
    "papermill": {
     "duration": 0.006939,
     "end_time": "2024-05-22T16:24:42.651752",
     "exception": false,
     "start_time": "2024-05-22T16:24:42.644813",
     "status": "completed"
    },
    "tags": [
     "parameters"
    ]
   },
   "outputs": [],
   "source": [
    "# Parameters cells\n",
    "WITNESS_NAME = \"CHSH\""
   ]
  },
  {
   "cell_type": "code",
   "execution_count": 4,
   "id": "915aca31",
   "metadata": {
    "execution": {
     "iopub.execute_input": "2024-05-22T16:24:42.653815Z",
     "iopub.status.busy": "2024-05-22T16:24:42.653685Z",
     "iopub.status.idle": "2024-05-22T16:24:42.655419Z",
     "shell.execute_reply": "2024-05-22T16:24:42.655179Z"
    },
    "papermill": {
     "duration": 0.003481,
     "end_time": "2024-05-22T16:24:42.655980",
     "exception": false,
     "start_time": "2024-05-22T16:24:42.652499",
     "status": "completed"
    },
    "tags": [
     "injected-parameters"
    ]
   },
   "outputs": [],
   "source": [
    "# Parameters\n",
    "WITNESS_NAME = \"ENTROPY\"\n"
   ]
  },
  {
   "cell_type": "code",
   "execution_count": 5,
   "id": "d70e7916",
   "metadata": {
    "execution": {
     "iopub.execute_input": "2024-05-22T16:24:42.658109Z",
     "iopub.status.busy": "2024-05-22T16:24:42.657970Z",
     "iopub.status.idle": "2024-05-22T16:24:42.661206Z",
     "shell.execute_reply": "2024-05-22T16:24:42.660984Z"
    },
    "papermill": {
     "duration": 0.005004,
     "end_time": "2024-05-22T16:24:42.661784",
     "exception": false,
     "start_time": "2024-05-22T16:24:42.656780",
     "status": "completed"
    },
    "tags": []
   },
   "outputs": [],
   "source": [
    "def get_simulated_training_data(entanglement_witness, samples_nb=2000):\n",
    "    samples_states = []\n",
    "    samples_is_entangled = []\n",
    "    \n",
    "    for _ in range(0, samples_nb):\n",
    "        # Create an entangled state in the form: cos(theta)|00> + exp(i*phi)*sin(theta)|11>\n",
    "        theta = np.random.uniform(0, np.pi)\n",
    "        phi = np.random.uniform(0, 2 * np.pi)\n",
    "        state = (np.cos(theta) * tensor(basis(2, 0), basis(2, 0)) +\n",
    "                 np.exp(1j * phi) * np.sin(theta) * tensor(basis(2, 1), basis(2, 1)))\n",
    "        samples_states.append(state)\n",
    "        samples_is_entangled.append(entanglement_witness(state))\n",
    "    \n",
    "        # Create an entangled state in the form: cos(theta)|01> + exp(i*phi)*sin(theta)|01>\n",
    "        theta = np.random.uniform(0, np.pi)\n",
    "        phi = np.random.uniform(0, 2 * np.pi)\n",
    "        state = (np.cos(theta) * tensor(basis(2, 0), basis(2, 1)) +\n",
    "                 np.exp(1j * phi) * np.sin(theta) * tensor(basis(2, 1), basis(2, 0)))\n",
    "        samples_states.append(state)\n",
    "        is_entangled = entanglement_witness(state)\n",
    "        samples_is_entangled.append(is_entangled)\n",
    "    \n",
    "        # Create a separable state |psi> X |phi>\n",
    "        state = tensor(rand_ket(2), rand_ket(2)).unit()\n",
    "        samples_states.append(state)\n",
    "        is_entangled = entanglement_witness(state)\n",
    "        samples_is_entangled.append(is_entangled)\n",
    "\n",
    "    return samples_states, samples_is_entangled"
   ]
  },
  {
   "cell_type": "code",
   "execution_count": 6,
   "id": "6a4da475",
   "metadata": {
    "execution": {
     "iopub.execute_input": "2024-05-22T16:24:42.663757Z",
     "iopub.status.busy": "2024-05-22T16:24:42.663645Z",
     "iopub.status.idle": "2024-05-22T16:24:44.295183Z",
     "shell.execute_reply": "2024-05-22T16:24:44.294772Z"
    },
    "papermill": {
     "duration": 1.633599,
     "end_time": "2024-05-22T16:24:44.296108",
     "exception": false,
     "start_time": "2024-05-22T16:24:42.662509",
     "status": "completed"
    },
    "tags": []
   },
   "outputs": [],
   "source": [
    "simulated_data = {}\n",
    "parameter_witness = {WITNESS_NAME: witnesses[WITNESS_NAME]}\n",
    "\n",
    "for name, witness in parameter_witness.items():\n",
    "    samples_states, samples_is_entangled =  get_simulated_training_data(witness)\n",
    "\n",
    "    simulated_data[name] = {\n",
    "        \"states\": samples_states,\n",
    "        \"entanglement\": samples_is_entangled\n",
    "    }"
   ]
  },
  {
   "cell_type": "code",
   "execution_count": 7,
   "id": "affe2ee4",
   "metadata": {
    "execution": {
     "iopub.execute_input": "2024-05-22T16:24:44.301272Z",
     "iopub.status.busy": "2024-05-22T16:24:44.301182Z",
     "iopub.status.idle": "2024-05-22T16:24:44.317313Z",
     "shell.execute_reply": "2024-05-22T16:24:44.316892Z"
    },
    "papermill": {
     "duration": 0.021345,
     "end_time": "2024-05-22T16:24:44.318369",
     "exception": false,
     "start_time": "2024-05-22T16:24:44.297024",
     "status": "completed"
    },
    "tags": []
   },
   "outputs": [],
   "source": [
    "for name, data in simulated_data.items():\n",
    "    states = data[\"states\"]\n",
    "    labels = np.array(data[\"entanglement\"])\n",
    "    flatten_states = np.array([np.concatenate([state.full().real.flatten(), state.full().imag.flatten()]) for state in samples_states])\n",
    "\n",
    "    file_path = \"./simulated_data/simulation-{}.npz\".format(name)\n",
    "    np.savez(file_path, states=flatten_states, labels=labels)"
   ]
  }
 ],
 "metadata": {
  "kernelspec": {
   "display_name": "quantum-entanglement",
   "language": "python",
   "name": "python3"
  },
  "language_info": {
   "codemirror_mode": {
    "name": "ipython",
    "version": 3
   },
   "file_extension": ".py",
   "mimetype": "text/x-python",
   "name": "python",
   "nbconvert_exporter": "python",
   "pygments_lexer": "ipython3",
   "version": "3.11.9"
  },
  "papermill": {
   "default_parameters": {},
   "duration": 6.587474,
   "end_time": "2024-05-22T16:24:44.534871",
   "environment_variables": {},
   "exception": null,
   "input_path": "00-Simulation.ipynb",
   "output_path": "./executed_notebooks/00-Simulation-ENTROPY.ipynb",
   "parameters": {
    "WITNESS_NAME": "ENTROPY"
   },
   "start_time": "2024-05-22T16:24:37.947397",
   "version": "2.6.0"
  }
 },
 "nbformat": 4,
 "nbformat_minor": 5
}