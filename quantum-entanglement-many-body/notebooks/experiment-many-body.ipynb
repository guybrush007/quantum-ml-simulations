{
 "cells": [
  {
   "cell_type": "code",
   "execution_count": 1,
   "metadata": {},
   "outputs": [],
   "source": [
    "import os\n",
    "os.environ[\"JAX_PLATFORM_NAME\"] = \"cpu\""
   ]
  },
  {
   "cell_type": "code",
   "execution_count": 2,
   "metadata": {},
   "outputs": [],
   "source": [
    "# Import netket library\n",
    "import netket as nk\n",
    "\n",
    "# Import Json, this will be needed to load log files\n",
    "import json\n",
    "\n",
    "# Helper libraries\n",
    "import numpy as np\n",
    "import matplotlib.pyplot as plt\n",
    "import time"
   ]
  },
  {
   "cell_type": "code",
   "execution_count": 3,
   "metadata": {},
   "outputs": [],
   "source": [
    "# Define a 1d chain\n",
    "L = 22\n",
    "g = nk.graph.Hypercube(length=L, n_dim=1, pbc=True)"
   ]
  },
  {
   "cell_type": "code",
   "execution_count": 4,
   "metadata": {},
   "outputs": [],
   "source": [
    "# Define the Hilbert space based on this graph\n",
    "# We impose to have a fixed total magnetization of zero \n",
    "hi = nk.hilbert.Spin(s=0.5, total_sz=0, N=g.n_nodes)"
   ]
  },
  {
   "cell_type": "code",
   "execution_count": 5,
   "metadata": {},
   "outputs": [],
   "source": [
    "# calling the Heisenberg Hamiltonian\n",
    "ha = nk.operator.Heisenberg(hilbert=hi, graph=g)"
   ]
  },
  {
   "cell_type": "code",
   "execution_count": 6,
   "metadata": {},
   "outputs": [
    {
     "name": "stdout",
     "output_type": "stream",
     "text": [
      "The exact ground-state energy is E0= -39.147522607062804\n"
     ]
    }
   ],
   "source": [
    "# compute the ground-state energy (here we only need the lowest energy, and do not need the eigenstate)\n",
    "evals = nk.exact.lanczos_ed(ha, compute_eigenvectors=False)\n",
    "exact_gs_energy = evals[0]\n",
    "print('The exact ground-state energy is E0=',exact_gs_energy)"
   ]
  },
  {
   "cell_type": "code",
   "execution_count": 7,
   "metadata": {},
   "outputs": [],
   "source": [
    "import flax.linen as nn\n",
    "import jax.numpy as jnp\n",
    "import jax\n",
    "\n",
    "class Jastrow(nn.Module):\n",
    "    @nn.compact\n",
    "    def __call__(self, x):\n",
    "        # sometimes we call this function with a 1D input, sometimes with a 2D.\n",
    "        # We promote all inputs to 2D to make the following code simpler.\n",
    "        x = jnp.atleast_2d(x)\n",
    "        # We vmap along the 0-th axis of the input\n",
    "        # This will automatically convert a function working on vectors to one working\n",
    "        # on matrices.\n",
    "        return jax.vmap(self.evaluate_single, in_axes=(0))(x)\n",
    "        \n",
    "    def evaluate_single(self, x):\n",
    "        # We create the parameter v, which is a vector of length N_sites \n",
    "        v_bias = self.param(\n",
    "            \"visible_bias\", nn.initializers.normal(), (x.shape[-1],), complex\n",
    "        )\n",
    "    \n",
    "        # The Jastrow matrix is a N_sites x N_sites complex-valued matrix\n",
    "        J = self.param(\n",
    "            \"kernel\", nn.initializers.normal(), (x.shape[-1],x.shape[-1]), complex\n",
    "        )\n",
    "        \n",
    "        # In python @ symbolises matrix multiplication\n",
    "        return x.T@J@x + jnp.dot(x, v_bias)"
   ]
  },
  {
   "cell_type": "code",
   "execution_count": 8,
   "metadata": {},
   "outputs": [
    {
     "name": "stdout",
     "output_type": "stream",
     "text": [
      "Jastrow()\n"
     ]
    }
   ],
   "source": [
    "ma = Jastrow()\n",
    "print(ma)"
   ]
  },
  {
   "cell_type": "code",
   "execution_count": 9,
   "metadata": {},
   "outputs": [
    {
     "name": "stderr",
     "output_type": "stream",
     "text": [
      "/home/faical/anaconda3/envs/many-body/lib/python3.10/site-packages/netket/vqs/mc/mc_state/state.py:248: UserWarning: n_samples=1000 (1000 per device/MPI rank) does not divide n_chains=16, increased to 1008 (1008 per device/MPI rank)\n",
      "  self.n_samples = n_samples\n"
     ]
    },
    {
     "data": {
      "application/vnd.jupyter.widget-view+json": {
       "model_id": "b6f8877194374a279792606bc8165ef6",
       "version_major": 2,
       "version_minor": 0
      },
      "text/plain": [
       "  0%|          | 0/300 [00:00<?, ?it/s]"
      ]
     },
     "metadata": {},
     "output_type": "display_data"
    },
    {
     "name": "stderr",
     "output_type": "stream",
     "text": [
      "/home/faical/anaconda3/envs/many-body/lib/python3.10/site-packages/netket/optimizer/qgt/qgt_onthefly.py:139: HolomorphicUndeclaredWarning: \n",
      "Defaulting to `holomorphic=False`, but this might lead to increased\n",
      "computational cost or disabled features. Check if your variational\n",
      "function is holomorphic, and if so specify `holomorphic=True`as an extra\n",
      "keyword argument.\n",
      "\n",
      "To silence this warning, specify the `holomorphic=False/True` keyword\n",
      "argument.\n",
      "\n",
      "To numerically check whether your variational function is or not holomorphic\n",
      "you can use the following snippet:\n",
      "\n",
      "```python\n",
      "   vs = nk.vqs.MCState(...)\n",
      "\n",
      "   nk.utils.is_probably_holomorphic(vs._apply_fun, vs.parameters, vs.samples, vs.model_state)\n",
      "```\n",
      "\n",
      "if `nk.utils.is_probably_holomorphic` returns False, then your function is not holomorphic.\n",
      "If it returns True, it is probably holomorphic.\n",
      "\n",
      "\n",
      "-------------------------------------------------------\n",
      "For more detailed informations, visit the following link:\n",
      "\t https://netket.readthedocs.io/en/latest/api/_generated/errors/netket.errors.HolomorphicUndeclaredWarning.html\n",
      "or the list of all common errors and warnings at\n",
      "\t https://netket.readthedocs.io/en/latest/api/errors.html\n",
      "-------------------------------------------------------\n",
      "\n",
      "  warnings.warn(HolomorphicUndeclaredWarning(), UserWarning)\n",
      "/home/faical/anaconda3/envs/many-body/lib/python3.10/site-packages/jax/_src/linear_util.py:193: HolomorphicUndeclaredWarning: \n",
      "Defaulting to `holomorphic=False`, but this might lead to increased\n",
      "computational cost or disabled features. Check if your variational\n",
      "function is holomorphic, and if so specify `holomorphic=True`as an extra\n",
      "keyword argument.\n",
      "\n",
      "To silence this warning, specify the `holomorphic=False/True` keyword\n",
      "argument.\n",
      "\n",
      "To numerically check whether your variational function is or not holomorphic\n",
      "you can use the following snippet:\n",
      "\n",
      "```python\n",
      "   vs = nk.vqs.MCState(...)\n",
      "\n",
      "   nk.utils.is_probably_holomorphic(vs._apply_fun, vs.parameters, vs.samples, vs.model_state)\n",
      "```\n",
      "\n",
      "if `nk.utils.is_probably_holomorphic` returns False, then your function is not holomorphic.\n",
      "If it returns True, it is probably holomorphic.\n",
      "\n",
      "\n",
      "-------------------------------------------------------\n",
      "For more detailed informations, visit the following link:\n",
      "\t https://netket.readthedocs.io/en/latest/api/_generated/errors/netket.errors.HolomorphicUndeclaredWarning.html\n",
      "or the list of all common errors and warnings at\n",
      "\t https://netket.readthedocs.io/en/latest/api/errors.html\n",
      "-------------------------------------------------------\n",
      "\n",
      "  ans = self.f(*args, **dict(self.params, **kwargs))\n",
      "/home/faical/anaconda3/envs/many-body/lib/python3.10/site-packages/netket/optimizer/qgt/qgt_onthefly.py:139: HolomorphicUndeclaredWarning: \n",
      "Defaulting to `holomorphic=False`, but this might lead to increased\n",
      "computational cost or disabled features. Check if your variational\n",
      "function is holomorphic, and if so specify `holomorphic=True`as an extra\n",
      "keyword argument.\n",
      "\n",
      "To silence this warning, specify the `holomorphic=False/True` keyword\n",
      "argument.\n",
      "\n",
      "To numerically check whether your variational function is or not holomorphic\n",
      "you can use the following snippet:\n",
      "\n",
      "```python\n",
      "   vs = nk.vqs.MCState(...)\n",
      "\n",
      "   nk.utils.is_probably_holomorphic(vs._apply_fun, vs.parameters, vs.samples, vs.model_state)\n",
      "```\n",
      "\n",
      "if `nk.utils.is_probably_holomorphic` returns False, then your function is not holomorphic.\n",
      "If it returns True, it is probably holomorphic.\n",
      "\n",
      "\n",
      "-------------------------------------------------------\n",
      "For more detailed informations, visit the following link:\n",
      "\t https://netket.readthedocs.io/en/latest/api/_generated/errors/netket.errors.HolomorphicUndeclaredWarning.html\n",
      "or the list of all common errors and warnings at\n",
      "\t https://netket.readthedocs.io/en/latest/api/errors.html\n",
      "-------------------------------------------------------\n",
      "\n",
      "  warnings.warn(HolomorphicUndeclaredWarning(), UserWarning)\n",
      "/home/faical/anaconda3/envs/many-body/lib/python3.10/site-packages/netket/optimizer/qgt/qgt_onthefly.py:139: HolomorphicUndeclaredWarning: \n",
      "Defaulting to `holomorphic=False`, but this might lead to increased\n",
      "computational cost or disabled features. Check if your variational\n",
      "function is holomorphic, and if so specify `holomorphic=True`as an extra\n",
      "keyword argument.\n",
      "\n",
      "To silence this warning, specify the `holomorphic=False/True` keyword\n",
      "argument.\n",
      "\n",
      "To numerically check whether your variational function is or not holomorphic\n",
      "you can use the following snippet:\n",
      "\n",
      "```python\n",
      "   vs = nk.vqs.MCState(...)\n",
      "\n",
      "   nk.utils.is_probably_holomorphic(vs._apply_fun, vs.parameters, vs.samples, vs.model_state)\n",
      "```\n",
      "\n",
      "if `nk.utils.is_probably_holomorphic` returns False, then your function is not holomorphic.\n",
      "If it returns True, it is probably holomorphic.\n",
      "\n",
      "\n",
      "-------------------------------------------------------\n",
      "For more detailed informations, visit the following link:\n",
      "\t https://netket.readthedocs.io/en/latest/api/_generated/errors/netket.errors.HolomorphicUndeclaredWarning.html\n",
      "or the list of all common errors and warnings at\n",
      "\t https://netket.readthedocs.io/en/latest/api/errors.html\n",
      "-------------------------------------------------------\n",
      "\n",
      "  warnings.warn(HolomorphicUndeclaredWarning(), UserWarning)\n",
      "/home/faical/anaconda3/envs/many-body/lib/python3.10/site-packages/netket/optimizer/qgt/qgt_onthefly.py:139: HolomorphicUndeclaredWarning: \n",
      "Defaulting to `holomorphic=False`, but this might lead to increased\n",
      "computational cost or disabled features. Check if your variational\n",
      "function is holomorphic, and if so specify `holomorphic=True`as an extra\n",
      "keyword argument.\n",
      "\n",
      "To silence this warning, specify the `holomorphic=False/True` keyword\n",
      "argument.\n",
      "\n",
      "To numerically check whether your variational function is or not holomorphic\n",
      "you can use the following snippet:\n",
      "\n",
      "```python\n",
      "   vs = nk.vqs.MCState(...)\n",
      "\n",
      "   nk.utils.is_probably_holomorphic(vs._apply_fun, vs.parameters, vs.samples, vs.model_state)\n",
      "```\n",
      "\n",
      "if `nk.utils.is_probably_holomorphic` returns False, then your function is not holomorphic.\n",
      "If it returns True, it is probably holomorphic.\n",
      "\n",
      "\n",
      "-------------------------------------------------------\n",
      "For more detailed informations, visit the following link:\n",
      "\t https://netket.readthedocs.io/en/latest/api/_generated/errors/netket.errors.HolomorphicUndeclaredWarning.html\n",
      "or the list of all common errors and warnings at\n",
      "\t https://netket.readthedocs.io/en/latest/api/errors.html\n",
      "-------------------------------------------------------\n",
      "\n",
      "  warnings.warn(HolomorphicUndeclaredWarning(), UserWarning)\n"
     ]
    },
    {
     "name": "stdout",
     "output_type": "stream",
     "text": [
      "### Jastrow calculation\n",
      "Has 506 parameters\n",
      "The Jastrow calculation took 10.247824907302856 seconds\n"
     ]
    }
   ],
   "source": [
    "# Build the sampler\n",
    "sa = nk.sampler.MetropolisExchange(hilbert=hi,graph=g)\n",
    "\n",
    "# Optimizer\n",
    "op = nk.optimizer.Sgd(learning_rate=0.1)\n",
    "\n",
    "# Stochastic Reconfiguration\n",
    "sr = nk.optimizer.SR(diag_shift=0.1)\n",
    "\n",
    "# The variational state\n",
    "vs = nk.vqs.MCState(sa, ma, n_samples=1000)\n",
    "\n",
    "# The ground-state optimization loop\n",
    "gs = nk.VMC(\n",
    "    hamiltonian=ha,\n",
    "    optimizer=op,\n",
    "    preconditioner=sr,\n",
    "    variational_state=vs)\n",
    "\n",
    "start = time.time()\n",
    "gs.run(300, out='Jastrow')\n",
    "end = time.time()\n",
    "\n",
    "print('### Jastrow calculation')\n",
    "print('Has',nk.jax.tree_size(vs.parameters),'parameters')\n",
    "print('The Jastrow calculation took',end-start,'seconds')"
   ]
  },
  {
   "cell_type": "code",
   "execution_count": 10,
   "metadata": {},
   "outputs": [
    {
     "data": {
      "image/png": "[encoded data removed]",
      "text/plain": [
       "<Figure size 640x480 with 1 Axes>"
      ]
     },
     "metadata": {},
     "output_type": "display_data"
    }
   ],
   "source": [
    "# import the data from log file\n",
    "data_Jastrow=json.load(open(\"Jastrow.log\"))\n",
    "   \n",
    "iters_Jastrow = data_Jastrow[\"Energy\"][\"iters\"]\n",
    "energy_Jastrow = data_Jastrow[\"Energy\"][\"Mean\"][\"real\"]\n",
    "\n",
    "fig, ax1 = plt.subplots()\n",
    "ax1.plot(iters_Jastrow, energy_Jastrow, color='C8', label='Energy (Jastrow)')\n",
    "ax1.set_ylabel('Energy')\n",
    "ax1.set_xlabel('Iteration')\n",
    "plt.axis([0,iters_Jastrow[-1],exact_gs_energy-0.1,exact_gs_energy+0.4])\n",
    "plt.axhline(y=exact_gs_energy, xmin=0,\n",
    "                xmax=iters_Jastrow[-1], linewidth=2, color='k', label='Exact')\n",
    "ax1.legend()\n",
    "plt.show()"
   ]
  },
  {
   "cell_type": "code",
   "execution_count": null,
   "metadata": {},
   "outputs": [],
   "source": []
  }
 ],
 "metadata": {
  "kernelspec": {
   "display_name": "many-body",
   "language": "python",
   "name": "python3"
  },
  "language_info": {
   "codemirror_mode": {
    "name": "ipython",
    "version": 3
   },
   "file_extension": ".py",
   "mimetype": "text/x-python",
   "name": "python",
   "nbconvert_exporter": "python",
   "pygments_lexer": "ipython3",
   "version": "3.10.14"
  }
 },
 "nbformat": 4,
 "nbformat_minor": 2
}
